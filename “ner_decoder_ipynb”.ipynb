{
  "nbformat": 4,
  "nbformat_minor": 0,
  "metadata": {
    "colab": {
      "name": "“ner-decoder.ipynb”的副本",
      "provenance": [],
      "collapsed_sections": [],
      "include_colab_link": true
    },
    "kernelspec": {
      "name": "python3",
      "display_name": "Python 3"
    },
    "accelerator": "GPU"
  },
  "cells": [
    {
      "cell_type": "markdown",
      "metadata": {
        "id": "view-in-github",
        "colab_type": "text"
      },
      "source": [
        "<a href=\"https://colab.research.google.com/github/parkerhale/money/blob/master/%E2%80%9Cner_decoder_ipynb%E2%80%9D.ipynb\" target=\"_parent\"><img src=\"https://colab.research.google.com/assets/colab-badge.svg\" alt=\"Open In Colab\"/></a>"
      ]
    },
    {
      "cell_type": "markdown",
      "metadata": {
        "id": "IsY0LJOIT_cG"
      },
      "source": [
        "# Implementing a Viterbi Decoder and Evaluation for Sequence Labeling\n",
        "\n",
        "In this assignment, you will build a Viterbi decoder for an LSTM named-entity recognition model. As we mentioned in class, recurrent and bidirectional recurrent neural networks, of which LSTMs are the most common examples, can be used to perform sequence labeling. Although these models encode information from the surrounding words in order to make predictions, there are no \"hard\" constraints on what tags can appear where.\n",
        "\n",
        "There hard constraints are particularly important for tasks that label spans of more than one token. The most common example of a span-labeling task is named-entity recognition (NER). As described in Eisenstein, Jurafksy & Martin, and other texts, the goal of NER is to label spans of one or more words as _mentions_ of an _entity_, such as a person, location, organization, etc.\n",
        "\n",
        "The most common approach to NER is to reduce it to a sequence-labeling task, where each token in the input is labeled either with an `O`, if it is \"outside\" any named-entity span, or with `B-TYPE`, if it is the first token in an entity of type `TYPE`, or with `I-TYPE`, if it is the second or later token in an entity of type `TYPE`. Distinguishing between the first and later tokens of an entity allow us to identify distinct entity spans even when they are adjacent.\n",
        "\n",
        "Common values of `TYPE` include `PER` for person, `LOC` for location, `DATE` for date, and so on. In the dataset we load below, there are 17 distinct types.\n",
        "\n",
        "The span-labeling scheme just described implies that the labels on tokens must obey certain constraints: the tag `I-PER` must follow either `B-PER` or another `I-PER`. It cannot follow `O`, `B-LOC`, or `I-LOC`, i.e., a tag for a different entity type. By themselves, LSTMs or bidirectional LSTMs cannot directly enforce these constraints. This is one reason why conditional random fields (CRFs), which _can_ enforce these constraints, are often layered on top of these recurrent models.\n",
        "\n",
        "In this assignment, you will implement the simplest possible CRF: a CRF so simple that it does not require any training. Rather, it will assign weight 1 to any sequence of tags that obeys the constraints and weight 0 to any sequence of tags that violates them. The inputs to the CRF, which are analogous to the emission probabilities in an HMM, will come from an LSTM.\n",
        "\n",
        "But first, in order to test your decoder, you will also implement some functions to evaluate the output of an NER system according to two metrics:\n",
        "1. You will count the number of _violations_ of the NER label constraints, i.e., how many times `I-TYPE` follows `O` or a tag of a different type or occurs at the beginning of a sentence. This number will be greater than 0 in the raw LSTM output, but should be 0 for your CRF output.\n",
        "1. You will compute the _span-level_ precision, recall, and F1 of NER output. Although the baseline LSTM was trained to achieve high _token-level_ accuracy, this metric can be misleadingly high, since so many tokens are correctly labeled `O`. In other words, what proportion of spans predicted by the model line up exactly with spans in the gold standard, and what proportion of spans in the gold standard were predicted by the model? Define _span_ as a sequence of tags that starts with a `B-TYPE` followed by zero or more `I-TYPE` tags. Sequences solely of `I-TYPE` tags don't count as spans.For more, see the original task definition: https://www.aclweb.org/anthology/W03-0419/.\n",
        "\n",
        "We start with loading some code and data and the describe your tasks in more detail."
      ]
    },
    {
      "cell_type": "markdown",
      "metadata": {
        "id": "Dhnn49QEU_Ik"
      },
      "source": [
        "## Set Up Dependencies and Definitions"
      ]
    },
    {
      "cell_type": "code",
      "metadata": {
        "id": "QJINX1MwOLBT",
        "colab": {
          "base_uri": "https://localhost:8080/"
        },
        "outputId": "2023e624-3a19-4398-aa7a-c8d5fd52f6bd"
      },
      "source": [
        "!pip install --upgrade spacy==2.1.0 allennlp==0.9.0\n",
        "import spacy"
      ],
      "execution_count": 1,
      "outputs": [
        {
          "output_type": "stream",
          "text": [
            "Requirement already up-to-date: spacy==2.1.0 in /usr/local/lib/python3.7/dist-packages (2.1.0)\n",
            "Requirement already up-to-date: allennlp==0.9.0 in /usr/local/lib/python3.7/dist-packages (0.9.0)\n",
            "Requirement already satisfied, skipping upgrade: plac<1.0.0,>=0.9.6 in /usr/local/lib/python3.7/dist-packages (from spacy==2.1.0) (0.9.6)\n",
            "Requirement already satisfied, skipping upgrade: srsly<1.1.0,>=0.0.5 in /usr/local/lib/python3.7/dist-packages (from spacy==2.1.0) (1.0.5)\n",
            "Requirement already satisfied, skipping upgrade: thinc<7.1.0,>=7.0.2 in /usr/local/lib/python3.7/dist-packages (from spacy==2.1.0) (7.0.8)\n",
            "Requirement already satisfied, skipping upgrade: murmurhash<1.1.0,>=0.28.0 in /usr/local/lib/python3.7/dist-packages (from spacy==2.1.0) (1.0.5)\n",
            "Requirement already satisfied, skipping upgrade: blis<0.3.0,>=0.2.2 in /usr/local/lib/python3.7/dist-packages (from spacy==2.1.0) (0.2.4)\n",
            "Requirement already satisfied, skipping upgrade: cymem<2.1.0,>=2.0.2 in /usr/local/lib/python3.7/dist-packages (from spacy==2.1.0) (2.0.5)\n",
            "Requirement already satisfied, skipping upgrade: jsonschema<3.0.0,>=2.6.0 in /usr/local/lib/python3.7/dist-packages (from spacy==2.1.0) (2.6.0)\n",
            "Requirement already satisfied, skipping upgrade: preshed<2.1.0,>=2.0.1 in /usr/local/lib/python3.7/dist-packages (from spacy==2.1.0) (2.0.1)\n",
            "Requirement already satisfied, skipping upgrade: numpy>=1.15.0 in /usr/local/lib/python3.7/dist-packages (from spacy==2.1.0) (1.19.5)\n",
            "Requirement already satisfied, skipping upgrade: requests<3.0.0,>=2.13.0 in /usr/local/lib/python3.7/dist-packages (from spacy==2.1.0) (2.23.0)\n",
            "Requirement already satisfied, skipping upgrade: wasabi<1.1.0,>=0.0.12 in /usr/local/lib/python3.7/dist-packages (from spacy==2.1.0) (0.8.2)\n",
            "Requirement already satisfied, skipping upgrade: tqdm>=4.19 in /usr/local/lib/python3.7/dist-packages (from allennlp==0.9.0) (4.41.1)\n",
            "Requirement already satisfied, skipping upgrade: boto3 in /usr/local/lib/python3.7/dist-packages (from allennlp==0.9.0) (1.17.43)\n",
            "Requirement already satisfied, skipping upgrade: pytz>=2017.3 in /usr/local/lib/python3.7/dist-packages (from allennlp==0.9.0) (2018.9)\n",
            "Requirement already satisfied, skipping upgrade: flaky in /usr/local/lib/python3.7/dist-packages (from allennlp==0.9.0) (3.7.0)\n",
            "Requirement already satisfied, skipping upgrade: flask-cors>=3.0.7 in /usr/local/lib/python3.7/dist-packages (from allennlp==0.9.0) (3.0.10)\n",
            "Requirement already satisfied, skipping upgrade: responses>=0.7 in /usr/local/lib/python3.7/dist-packages (from allennlp==0.9.0) (0.13.2)\n",
            "Requirement already satisfied, skipping upgrade: overrides in /usr/local/lib/python3.7/dist-packages (from allennlp==0.9.0) (3.1.0)\n",
            "Requirement already satisfied, skipping upgrade: pytorch-transformers==1.1.0 in /usr/local/lib/python3.7/dist-packages (from allennlp==0.9.0) (1.1.0)\n",
            "Requirement already satisfied, skipping upgrade: scipy in /usr/local/lib/python3.7/dist-packages (from allennlp==0.9.0) (1.4.1)\n",
            "Requirement already satisfied, skipping upgrade: ftfy in /usr/local/lib/python3.7/dist-packages (from allennlp==0.9.0) (5.9)\n",
            "Requirement already satisfied, skipping upgrade: matplotlib>=2.2.3 in /usr/local/lib/python3.7/dist-packages (from allennlp==0.9.0) (3.2.2)\n",
            "Requirement already satisfied, skipping upgrade: parsimonious>=0.8.0 in /usr/local/lib/python3.7/dist-packages (from allennlp==0.9.0) (0.8.1)\n",
            "Requirement already satisfied, skipping upgrade: torch>=1.2.0 in /usr/local/lib/python3.7/dist-packages (from allennlp==0.9.0) (1.8.1+cu101)\n",
            "Requirement already satisfied, skipping upgrade: conllu==1.3.1 in /usr/local/lib/python3.7/dist-packages (from allennlp==0.9.0) (1.3.1)\n",
            "Requirement already satisfied, skipping upgrade: tensorboardX>=1.2 in /usr/local/lib/python3.7/dist-packages (from allennlp==0.9.0) (2.1)\n",
            "Requirement already satisfied, skipping upgrade: numpydoc>=0.8.0 in /usr/local/lib/python3.7/dist-packages (from allennlp==0.9.0) (1.1.0)\n",
            "Requirement already satisfied, skipping upgrade: jsonnet>=0.10.0; sys_platform != \"win32\" in /usr/local/lib/python3.7/dist-packages (from allennlp==0.9.0) (0.17.0)\n",
            "Requirement already satisfied, skipping upgrade: jsonpickle in /usr/local/lib/python3.7/dist-packages (from allennlp==0.9.0) (2.0.0)\n",
            "Requirement already satisfied, skipping upgrade: editdistance in /usr/local/lib/python3.7/dist-packages (from allennlp==0.9.0) (0.5.3)\n",
            "Requirement already satisfied, skipping upgrade: sqlparse>=0.2.4 in /usr/local/lib/python3.7/dist-packages (from allennlp==0.9.0) (0.4.1)\n",
            "Requirement already satisfied, skipping upgrade: pytorch-pretrained-bert>=0.6.0 in /usr/local/lib/python3.7/dist-packages (from allennlp==0.9.0) (0.6.2)\n",
            "Requirement already satisfied, skipping upgrade: gevent>=1.3.6 in /usr/local/lib/python3.7/dist-packages (from allennlp==0.9.0) (21.1.2)\n",
            "Requirement already satisfied, skipping upgrade: pytest in /usr/local/lib/python3.7/dist-packages (from allennlp==0.9.0) (3.6.4)\n",
            "Requirement already satisfied, skipping upgrade: flask>=1.0.2 in /usr/local/lib/python3.7/dist-packages (from allennlp==0.9.0) (1.1.2)\n",
            "Requirement already satisfied, skipping upgrade: nltk in /usr/local/lib/python3.7/dist-packages (from allennlp==0.9.0) (3.2.5)\n",
            "Requirement already satisfied, skipping upgrade: h5py in /usr/local/lib/python3.7/dist-packages (from allennlp==0.9.0) (2.10.0)\n",
            "Requirement already satisfied, skipping upgrade: unidecode in /usr/local/lib/python3.7/dist-packages (from allennlp==0.9.0) (1.2.0)\n",
            "Requirement already satisfied, skipping upgrade: word2number>=1.1 in /usr/local/lib/python3.7/dist-packages (from allennlp==0.9.0) (1.1)\n",
            "Requirement already satisfied, skipping upgrade: scikit-learn in /usr/local/lib/python3.7/dist-packages (from allennlp==0.9.0) (0.22.2.post1)\n",
            "Requirement already satisfied, skipping upgrade: certifi>=2017.4.17 in /usr/local/lib/python3.7/dist-packages (from requests<3.0.0,>=2.13.0->spacy==2.1.0) (2020.12.5)\n",
            "Requirement already satisfied, skipping upgrade: urllib3!=1.25.0,!=1.25.1,<1.26,>=1.21.1 in /usr/local/lib/python3.7/dist-packages (from requests<3.0.0,>=2.13.0->spacy==2.1.0) (1.24.3)\n",
            "Requirement already satisfied, skipping upgrade: idna<3,>=2.5 in /usr/local/lib/python3.7/dist-packages (from requests<3.0.0,>=2.13.0->spacy==2.1.0) (2.10)\n",
            "Requirement already satisfied, skipping upgrade: chardet<4,>=3.0.2 in /usr/local/lib/python3.7/dist-packages (from requests<3.0.0,>=2.13.0->spacy==2.1.0) (3.0.4)\n",
            "Requirement already satisfied, skipping upgrade: s3transfer<0.4.0,>=0.3.0 in /usr/local/lib/python3.7/dist-packages (from boto3->allennlp==0.9.0) (0.3.6)\n",
            "Requirement already satisfied, skipping upgrade: jmespath<1.0.0,>=0.7.1 in /usr/local/lib/python3.7/dist-packages (from boto3->allennlp==0.9.0) (0.10.0)\n",
            "Requirement already satisfied, skipping upgrade: botocore<1.21.0,>=1.20.43 in /usr/local/lib/python3.7/dist-packages (from boto3->allennlp==0.9.0) (1.20.43)\n",
            "Requirement already satisfied, skipping upgrade: Six in /usr/local/lib/python3.7/dist-packages (from flask-cors>=3.0.7->allennlp==0.9.0) (1.15.0)\n",
            "Requirement already satisfied, skipping upgrade: sentencepiece in /usr/local/lib/python3.7/dist-packages (from pytorch-transformers==1.1.0->allennlp==0.9.0) (0.1.95)\n",
            "Requirement already satisfied, skipping upgrade: regex in /usr/local/lib/python3.7/dist-packages (from pytorch-transformers==1.1.0->allennlp==0.9.0) (2019.12.20)\n",
            "Requirement already satisfied, skipping upgrade: wcwidth in /usr/local/lib/python3.7/dist-packages (from ftfy->allennlp==0.9.0) (0.2.5)\n",
            "Requirement already satisfied, skipping upgrade: pyparsing!=2.0.4,!=2.1.2,!=2.1.6,>=2.0.1 in /usr/local/lib/python3.7/dist-packages (from matplotlib>=2.2.3->allennlp==0.9.0) (2.4.7)\n",
            "Requirement already satisfied, skipping upgrade: cycler>=0.10 in /usr/local/lib/python3.7/dist-packages (from matplotlib>=2.2.3->allennlp==0.9.0) (0.10.0)\n",
            "Requirement already satisfied, skipping upgrade: kiwisolver>=1.0.1 in /usr/local/lib/python3.7/dist-packages (from matplotlib>=2.2.3->allennlp==0.9.0) (1.3.1)\n",
            "Requirement already satisfied, skipping upgrade: python-dateutil>=2.1 in /usr/local/lib/python3.7/dist-packages (from matplotlib>=2.2.3->allennlp==0.9.0) (2.8.1)\n",
            "Requirement already satisfied, skipping upgrade: typing-extensions in /usr/local/lib/python3.7/dist-packages (from torch>=1.2.0->allennlp==0.9.0) (3.7.4.3)\n",
            "Requirement already satisfied, skipping upgrade: protobuf>=3.8.0 in /usr/local/lib/python3.7/dist-packages (from tensorboardX>=1.2->allennlp==0.9.0) (3.12.4)\n",
            "Requirement already satisfied, skipping upgrade: sphinx>=1.6.5 in /usr/local/lib/python3.7/dist-packages (from numpydoc>=0.8.0->allennlp==0.9.0) (1.8.5)\n",
            "Requirement already satisfied, skipping upgrade: Jinja2>=2.3 in /usr/local/lib/python3.7/dist-packages (from numpydoc>=0.8.0->allennlp==0.9.0) (2.11.3)\n",
            "Requirement already satisfied, skipping upgrade: importlib-metadata; python_version < \"3.8\" in /usr/local/lib/python3.7/dist-packages (from jsonpickle->allennlp==0.9.0) (3.8.1)\n",
            "Requirement already satisfied, skipping upgrade: greenlet<2.0,>=0.4.17; platform_python_implementation == \"CPython\" in /usr/local/lib/python3.7/dist-packages (from gevent>=1.3.6->allennlp==0.9.0) (1.0.0)\n",
            "Requirement already satisfied, skipping upgrade: setuptools in /usr/local/lib/python3.7/dist-packages (from gevent>=1.3.6->allennlp==0.9.0) (54.2.0)\n",
            "Requirement already satisfied, skipping upgrade: zope.interface in /usr/local/lib/python3.7/dist-packages (from gevent>=1.3.6->allennlp==0.9.0) (5.3.0)\n",
            "Requirement already satisfied, skipping upgrade: zope.event in /usr/local/lib/python3.7/dist-packages (from gevent>=1.3.6->allennlp==0.9.0) (4.5.0)\n",
            "Requirement already satisfied, skipping upgrade: pluggy<0.8,>=0.5 in /usr/local/lib/python3.7/dist-packages (from pytest->allennlp==0.9.0) (0.7.1)\n",
            "Requirement already satisfied, skipping upgrade: py>=1.5.0 in /usr/local/lib/python3.7/dist-packages (from pytest->allennlp==0.9.0) (1.10.0)\n",
            "Requirement already satisfied, skipping upgrade: attrs>=17.4.0 in /usr/local/lib/python3.7/dist-packages (from pytest->allennlp==0.9.0) (20.3.0)\n",
            "Requirement already satisfied, skipping upgrade: atomicwrites>=1.0 in /usr/local/lib/python3.7/dist-packages (from pytest->allennlp==0.9.0) (1.4.0)\n",
            "Requirement already satisfied, skipping upgrade: more-itertools>=4.0.0 in /usr/local/lib/python3.7/dist-packages (from pytest->allennlp==0.9.0) (8.7.0)\n",
            "Requirement already satisfied, skipping upgrade: Werkzeug>=0.15 in /usr/local/lib/python3.7/dist-packages (from flask>=1.0.2->allennlp==0.9.0) (1.0.1)\n",
            "Requirement already satisfied, skipping upgrade: click>=5.1 in /usr/local/lib/python3.7/dist-packages (from flask>=1.0.2->allennlp==0.9.0) (7.1.2)\n",
            "Requirement already satisfied, skipping upgrade: itsdangerous>=0.24 in /usr/local/lib/python3.7/dist-packages (from flask>=1.0.2->allennlp==0.9.0) (1.1.0)\n",
            "Requirement already satisfied, skipping upgrade: joblib>=0.11 in /usr/local/lib/python3.7/dist-packages (from scikit-learn->allennlp==0.9.0) (1.0.1)\n",
            "Requirement already satisfied, skipping upgrade: sphinxcontrib-websupport in /usr/local/lib/python3.7/dist-packages (from sphinx>=1.6.5->numpydoc>=0.8.0->allennlp==0.9.0) (1.2.4)\n",
            "Requirement already satisfied, skipping upgrade: packaging in /usr/local/lib/python3.7/dist-packages (from sphinx>=1.6.5->numpydoc>=0.8.0->allennlp==0.9.0) (20.9)\n",
            "Requirement already satisfied, skipping upgrade: imagesize in /usr/local/lib/python3.7/dist-packages (from sphinx>=1.6.5->numpydoc>=0.8.0->allennlp==0.9.0) (1.2.0)\n",
            "Requirement already satisfied, skipping upgrade: Pygments>=2.0 in /usr/local/lib/python3.7/dist-packages (from sphinx>=1.6.5->numpydoc>=0.8.0->allennlp==0.9.0) (2.6.1)\n",
            "Requirement already satisfied, skipping upgrade: babel!=2.0,>=1.3 in /usr/local/lib/python3.7/dist-packages (from sphinx>=1.6.5->numpydoc>=0.8.0->allennlp==0.9.0) (2.9.0)\n",
            "Requirement already satisfied, skipping upgrade: snowballstemmer>=1.1 in /usr/local/lib/python3.7/dist-packages (from sphinx>=1.6.5->numpydoc>=0.8.0->allennlp==0.9.0) (2.1.0)\n",
            "Requirement already satisfied, skipping upgrade: alabaster<0.8,>=0.7 in /usr/local/lib/python3.7/dist-packages (from sphinx>=1.6.5->numpydoc>=0.8.0->allennlp==0.9.0) (0.7.12)\n",
            "Requirement already satisfied, skipping upgrade: docutils>=0.11 in /usr/local/lib/python3.7/dist-packages (from sphinx>=1.6.5->numpydoc>=0.8.0->allennlp==0.9.0) (0.16)\n",
            "Requirement already satisfied, skipping upgrade: MarkupSafe>=0.23 in /usr/local/lib/python3.7/dist-packages (from Jinja2>=2.3->numpydoc>=0.8.0->allennlp==0.9.0) (1.1.1)\n",
            "Requirement already satisfied, skipping upgrade: zipp>=0.5 in /usr/local/lib/python3.7/dist-packages (from importlib-metadata; python_version < \"3.8\"->jsonpickle->allennlp==0.9.0) (3.4.1)\n",
            "Requirement already satisfied, skipping upgrade: sphinxcontrib-serializinghtml in /usr/local/lib/python3.7/dist-packages (from sphinxcontrib-websupport->sphinx>=1.6.5->numpydoc>=0.8.0->allennlp==0.9.0) (1.1.4)\n"
          ],
          "name": "stdout"
        }
      ]
    },
    {
      "cell_type": "code",
      "metadata": {
        "id": "f4zJfaIlJ2bv",
        "colab": {
          "base_uri": "https://localhost:8080/"
        },
        "outputId": "402ed974-9fa8-4df1-d94a-a395ade1e57c"
      },
      "source": [
        "from typing import Iterator, List, Dict\n",
        "import torch\n",
        "import torch.optim as optim\n",
        "import numpy as np\n",
        "from allennlp.data import Instance\n",
        "from allennlp.data.fields import TextField, SequenceLabelField\n",
        "from allennlp.data.dataset_readers import DatasetReader\n",
        "from allennlp.common.file_utils import cached_path\n",
        "from allennlp.data.token_indexers import TokenIndexer, SingleIdTokenIndexer\n",
        "from allennlp.data.tokenizers import Token\n",
        "from allennlp.data.vocabulary import Vocabulary\n",
        "from allennlp.models import Model\n",
        "from allennlp.modules.text_field_embedders import TextFieldEmbedder, BasicTextFieldEmbedder\n",
        "from allennlp.modules.token_embedders import Embedding\n",
        "from allennlp.modules.seq2seq_encoders import Seq2SeqEncoder, PytorchSeq2SeqWrapper\n",
        "from allennlp.nn.util import get_text_field_mask, sequence_cross_entropy_with_logits\n",
        "from allennlp.training.metrics import CategoricalAccuracy\n",
        "from allennlp.data.iterators import BucketIterator\n",
        "from allennlp.training.trainer import Trainer\n",
        "from allennlp.predictors import SentenceTaggerPredictor\n",
        "from allennlp.data.dataset_readers import conll2003\n",
        "\n",
        "torch.manual_seed(1)"
      ],
      "execution_count": 2,
      "outputs": [
        {
          "output_type": "execute_result",
          "data": {
            "text/plain": [
              "<torch._C.Generator at 0x7f8eb0497710>"
            ]
          },
          "metadata": {
            "tags": []
          },
          "execution_count": 2
        }
      ]
    },
    {
      "cell_type": "code",
      "metadata": {
        "id": "Qo16Ko0Gchxk"
      },
      "source": [
        "class LstmTagger(Model):\n",
        "  def __init__(self,\n",
        "               word_embeddings: TextFieldEmbedder,\n",
        "               encoder: Seq2SeqEncoder,\n",
        "               vocab: Vocabulary) -> None:\n",
        "    super().__init__(vocab)\n",
        "    self.word_embeddings = word_embeddings\n",
        "    self.encoder = encoder\n",
        "    self.hidden2tag = torch.nn.Linear(in_features=encoder.get_output_dim(),\n",
        "                                      out_features=vocab.get_vocab_size('labels'))\n",
        "    self.accuracy = CategoricalAccuracy()\n",
        "\n",
        "  def forward(self,\n",
        "              tokens: Dict[str, torch.Tensor],\n",
        "              metadata,\n",
        "              tags: torch.Tensor = None) -> Dict[str, torch.Tensor]:\n",
        "    mask = get_text_field_mask(tokens)\n",
        "    embeddings = self.word_embeddings(tokens)\n",
        "    encoder_out = self.encoder(embeddings, mask)\n",
        "    tag_logits = self.hidden2tag(encoder_out)\n",
        "    output = {\"tag_logits\": tag_logits}\n",
        "    if tags is not None:\n",
        "      self.accuracy(tag_logits, tags, mask)\n",
        "      output[\"loss\"] = sequence_cross_entropy_with_logits(tag_logits, tags, mask)\n",
        "\n",
        "    return output\n",
        "\n",
        "  def get_metrics(self, reset: bool = False) -> Dict[str, float]:\n",
        "    return {\"accuracy\": self.accuracy.get_metric(reset)}"
      ],
      "execution_count": 3,
      "outputs": []
    },
    {
      "cell_type": "markdown",
      "metadata": {
        "id": "mVdKvPftVVLt"
      },
      "source": [
        "## Import Data"
      ]
    },
    {
      "cell_type": "code",
      "metadata": {
        "id": "5sOVVZslKm3N",
        "colab": {
          "base_uri": "https://localhost:8080/"
        },
        "outputId": "c8567542-434d-4454-9fc3-297e515e677a"
      },
      "source": [
        "reader = conll2003.Conll2003DatasetReader()\n",
        "train_dataset = reader.read(cached_path('http://www.ccs.neu.edu/home/dasmith/onto.train.ner.sample'))\n",
        "validation_dataset = reader.read(cached_path('http://www.ccs.neu.edu/home/dasmith/onto.development.ner.sample'))\n",
        "\n",
        "from itertools import chain\n",
        "vocab = Vocabulary.from_instances(chain(train_dataset, validation_dataset))"
      ],
      "execution_count": 4,
      "outputs": [
        {
          "output_type": "stream",
          "text": [
            "562it [00:00, 16548.37it/s]\n",
            "23it [00:00, 4189.20it/s]\n",
            "585it [00:00, 55261.54it/s]\n"
          ],
          "name": "stderr"
        }
      ]
    },
    {
      "cell_type": "markdown",
      "metadata": {
        "id": "wpg2Udr-Vnwm"
      },
      "source": [
        "## Define and Train Model"
      ]
    },
    {
      "cell_type": "code",
      "metadata": {
        "id": "8kDQQBMywdKx",
        "colab": {
          "base_uri": "https://localhost:8080/"
        },
        "outputId": "9fec1feb-b44d-4f75-91aa-b094c722e668"
      },
      "source": [
        "EMBEDDING_DIM = 6\n",
        "HIDDEN_DIM = 6\n",
        "token_embedding = Embedding(num_embeddings=vocab.get_vocab_size('tokens'),\n",
        "                            embedding_dim=EMBEDDING_DIM)\n",
        "word_embeddings = BasicTextFieldEmbedder({\"tokens\": token_embedding})\n",
        "lstm = PytorchSeq2SeqWrapper(torch.nn.LSTM(EMBEDDING_DIM, HIDDEN_DIM, bidirectional=False, batch_first=True))\n",
        "model = LstmTagger(word_embeddings, lstm, vocab)\n",
        "if torch.cuda.is_available():\n",
        "    cuda_device = 0\n",
        "    model = model.cuda(cuda_device)\n",
        "else:\n",
        "    cuda_device = -1\n",
        "# optimizer = optim.AdamW(model.parameters(), lr=1e-4, eps=1e-8)\n",
        "optimizer = optim.SGD(model.parameters(), lr=0.1)\n",
        "iterator = BucketIterator(batch_size=2, sorting_keys=[(\"tokens\", \"num_tokens\")])\n",
        "iterator.index_with(vocab)\n",
        "trainer = Trainer(model=model,\n",
        "                  optimizer=optimizer,\n",
        "                  iterator=iterator,\n",
        "                  train_dataset=train_dataset,\n",
        "                  validation_dataset=validation_dataset,\n",
        "                  patience=10,\n",
        "                  num_epochs=100,\n",
        "                  cuda_device=cuda_device)\n",
        "trainer.train()"
      ],
      "execution_count": 5,
      "outputs": [
        {
          "output_type": "stream",
          "text": [
            "accuracy: 0.8442, loss: 0.9118 ||: 100%|██████████| 281/281 [00:01<00:00, 249.12it/s]\n",
            "accuracy: 0.7878, loss: 1.2018 ||: 100%|██████████| 12/12 [00:00<00:00, 410.54it/s]\n",
            "accuracy: 0.8442, loss: 0.7299 ||: 100%|██████████| 281/281 [00:01<00:00, 262.85it/s]\n",
            "accuracy: 0.7878, loss: 1.1933 ||: 100%|██████████| 12/12 [00:00<00:00, 458.24it/s]\n",
            "accuracy: 0.8442, loss: 0.7161 ||: 100%|██████████| 281/281 [00:01<00:00, 260.86it/s]\n",
            "accuracy: 0.7878, loss: 1.1897 ||: 100%|██████████| 12/12 [00:00<00:00, 491.36it/s]\n",
            "accuracy: 0.8442, loss: 0.7068 ||: 100%|██████████| 281/281 [00:01<00:00, 261.49it/s]\n",
            "accuracy: 0.7878, loss: 1.1784 ||: 100%|██████████| 12/12 [00:00<00:00, 407.53it/s]\n",
            "accuracy: 0.8442, loss: 0.6988 ||: 100%|██████████| 281/281 [00:01<00:00, 262.88it/s]\n",
            "accuracy: 0.7878, loss: 1.1595 ||: 100%|██████████| 12/12 [00:00<00:00, 474.38it/s]\n",
            "accuracy: 0.8442, loss: 0.6907 ||: 100%|██████████| 281/281 [00:01<00:00, 265.66it/s]\n",
            "accuracy: 0.7878, loss: 1.1457 ||: 100%|██████████| 12/12 [00:00<00:00, 372.49it/s]\n",
            "accuracy: 0.8442, loss: 0.6820 ||: 100%|██████████| 281/281 [00:01<00:00, 253.24it/s]\n",
            "accuracy: 0.7878, loss: 1.1411 ||: 100%|██████████| 12/12 [00:00<00:00, 469.63it/s]\n",
            "accuracy: 0.8442, loss: 0.6714 ||: 100%|██████████| 281/281 [00:01<00:00, 264.90it/s]\n",
            "accuracy: 0.7878, loss: 1.1336 ||: 100%|██████████| 12/12 [00:00<00:00, 454.55it/s]\n",
            "accuracy: 0.8442, loss: 0.6574 ||: 100%|██████████| 281/281 [00:01<00:00, 263.34it/s]\n",
            "accuracy: 0.7878, loss: 1.1119 ||: 100%|██████████| 12/12 [00:00<00:00, 476.07it/s]\n",
            "accuracy: 0.8442, loss: 0.6398 ||: 100%|██████████| 281/281 [00:01<00:00, 262.26it/s]\n",
            "accuracy: 0.7878, loss: 1.0762 ||: 100%|██████████| 12/12 [00:00<00:00, 462.94it/s]\n",
            "accuracy: 0.8442, loss: 0.6148 ||: 100%|██████████| 281/281 [00:01<00:00, 251.75it/s]\n",
            "accuracy: 0.7878, loss: 1.0383 ||: 100%|██████████| 12/12 [00:00<00:00, 343.46it/s]\n",
            "accuracy: 0.8442, loss: 0.5795 ||: 100%|██████████| 281/281 [00:01<00:00, 255.21it/s]\n",
            "accuracy: 0.7878, loss: 0.9892 ||: 100%|██████████| 12/12 [00:00<00:00, 479.34it/s]\n",
            "accuracy: 0.8460, loss: 0.5398 ||: 100%|██████████| 281/281 [00:01<00:00, 263.83it/s]\n",
            "accuracy: 0.7878, loss: 0.9330 ||: 100%|██████████| 12/12 [00:00<00:00, 492.84it/s]\n",
            "accuracy: 0.8558, loss: 0.5021 ||: 100%|██████████| 281/281 [00:01<00:00, 259.82it/s]\n",
            "accuracy: 0.7878, loss: 0.8583 ||: 100%|██████████| 12/12 [00:00<00:00, 434.40it/s]\n",
            "accuracy: 0.8593, loss: 0.4709 ||: 100%|██████████| 281/281 [00:01<00:00, 260.95it/s]\n",
            "accuracy: 0.7939, loss: 0.8259 ||: 100%|██████████| 12/12 [00:00<00:00, 429.32it/s]\n",
            "accuracy: 0.8599, loss: 0.4485 ||: 100%|██████████| 281/281 [00:01<00:00, 262.43it/s]\n",
            "accuracy: 0.7918, loss: 0.8091 ||: 100%|██████████| 12/12 [00:00<00:00, 441.42it/s]\n",
            "accuracy: 0.8611, loss: 0.4298 ||: 100%|██████████| 281/281 [00:01<00:00, 265.29it/s]\n",
            "accuracy: 0.7939, loss: 0.7737 ||: 100%|██████████| 12/12 [00:00<00:00, 413.47it/s]\n",
            "accuracy: 0.8623, loss: 0.4163 ||: 100%|██████████| 281/281 [00:01<00:00, 266.12it/s]\n",
            "accuracy: 0.7939, loss: 0.7543 ||: 100%|██████████| 12/12 [00:00<00:00, 468.41it/s]\n",
            "accuracy: 0.8620, loss: 0.4073 ||: 100%|██████████| 281/281 [00:01<00:00, 257.18it/s]\n",
            "accuracy: 0.7939, loss: 0.7658 ||: 100%|██████████| 12/12 [00:00<00:00, 446.63it/s]\n",
            "accuracy: 0.8626, loss: 0.3989 ||: 100%|██████████| 281/281 [00:01<00:00, 254.16it/s]\n",
            "accuracy: 0.7939, loss: 0.7368 ||: 100%|██████████| 12/12 [00:00<00:00, 466.82it/s]\n",
            "accuracy: 0.8639, loss: 0.3911 ||: 100%|██████████| 281/281 [00:01<00:00, 262.41it/s]\n",
            "accuracy: 0.7939, loss: 0.7374 ||: 100%|██████████| 12/12 [00:00<00:00, 461.51it/s]\n",
            "accuracy: 0.8648, loss: 0.3861 ||: 100%|██████████| 281/281 [00:01<00:00, 257.78it/s]\n",
            "accuracy: 0.7939, loss: 0.7271 ||: 100%|██████████| 12/12 [00:00<00:00, 448.55it/s]\n",
            "accuracy: 0.8641, loss: 0.3812 ||: 100%|██████████| 281/281 [00:01<00:00, 261.50it/s]\n",
            "accuracy: 0.7939, loss: 0.7233 ||: 100%|██████████| 12/12 [00:00<00:00, 454.72it/s]\n",
            "accuracy: 0.8653, loss: 0.3799 ||: 100%|██████████| 281/281 [00:01<00:00, 262.89it/s]\n",
            "accuracy: 0.7898, loss: 0.7130 ||: 100%|██████████| 12/12 [00:00<00:00, 392.58it/s]\n",
            "accuracy: 0.8654, loss: 0.3721 ||: 100%|██████████| 281/281 [00:01<00:00, 265.31it/s]\n",
            "accuracy: 0.7898, loss: 0.7103 ||: 100%|██████████| 12/12 [00:00<00:00, 450.77it/s]\n",
            "accuracy: 0.8663, loss: 0.3693 ||: 100%|██████████| 281/281 [00:01<00:00, 263.61it/s]\n",
            "accuracy: 0.7959, loss: 0.7045 ||: 100%|██████████| 12/12 [00:00<00:00, 404.18it/s]\n",
            "accuracy: 0.8684, loss: 0.3653 ||: 100%|██████████| 281/281 [00:01<00:00, 263.00it/s]\n",
            "accuracy: 0.7959, loss: 0.6945 ||: 100%|██████████| 12/12 [00:00<00:00, 423.90it/s]\n",
            "accuracy: 0.8696, loss: 0.3610 ||: 100%|██████████| 281/281 [00:01<00:00, 265.82it/s]\n",
            "accuracy: 0.7959, loss: 0.7053 ||: 100%|██████████| 12/12 [00:00<00:00, 497.03it/s]\n",
            "accuracy: 0.8708, loss: 0.3588 ||: 100%|██████████| 281/281 [00:01<00:00, 253.43it/s]\n",
            "accuracy: 0.8000, loss: 0.6889 ||: 100%|██████████| 12/12 [00:00<00:00, 414.17it/s]\n",
            "accuracy: 0.8699, loss: 0.3557 ||: 100%|██████████| 281/281 [00:01<00:00, 263.44it/s]\n",
            "accuracy: 0.7980, loss: 0.6792 ||: 100%|██████████| 12/12 [00:00<00:00, 456.49it/s]\n",
            "accuracy: 0.8724, loss: 0.3506 ||: 100%|██████████| 281/281 [00:01<00:00, 254.55it/s]\n",
            "accuracy: 0.7980, loss: 0.6758 ||: 100%|██████████| 12/12 [00:00<00:00, 410.65it/s]\n",
            "accuracy: 0.8730, loss: 0.3485 ||: 100%|██████████| 281/281 [00:01<00:00, 263.18it/s]\n",
            "accuracy: 0.8041, loss: 0.6659 ||: 100%|██████████| 12/12 [00:00<00:00, 482.96it/s]\n",
            "accuracy: 0.8752, loss: 0.3446 ||: 100%|██████████| 281/281 [00:01<00:00, 265.33it/s]\n",
            "accuracy: 0.8000, loss: 0.6650 ||: 100%|██████████| 12/12 [00:00<00:00, 476.17it/s]\n",
            "accuracy: 0.8754, loss: 0.3405 ||: 100%|██████████| 281/281 [00:01<00:00, 264.58it/s]\n",
            "accuracy: 0.8041, loss: 0.6553 ||: 100%|██████████| 12/12 [00:00<00:00, 483.30it/s]\n",
            "accuracy: 0.8746, loss: 0.3388 ||: 100%|██████████| 281/281 [00:01<00:00, 255.88it/s]\n",
            "accuracy: 0.8061, loss: 0.6589 ||: 100%|██████████| 12/12 [00:00<00:00, 466.90it/s]\n",
            "accuracy: 0.8770, loss: 0.3364 ||: 100%|██████████| 281/281 [00:01<00:00, 264.40it/s]\n",
            "accuracy: 0.8143, loss: 0.6484 ||: 100%|██████████| 12/12 [00:00<00:00, 493.24it/s]\n",
            "accuracy: 0.8778, loss: 0.3326 ||: 100%|██████████| 281/281 [00:01<00:00, 263.01it/s]\n",
            "accuracy: 0.8143, loss: 0.6611 ||: 100%|██████████| 12/12 [00:00<00:00, 452.69it/s]\n",
            "accuracy: 0.8790, loss: 0.3301 ||: 100%|██████████| 281/281 [00:01<00:00, 264.75it/s]\n",
            "accuracy: 0.8163, loss: 0.6388 ||: 100%|██████████| 12/12 [00:00<00:00, 461.76it/s]\n",
            "accuracy: 0.8818, loss: 0.3261 ||: 100%|██████████| 281/281 [00:01<00:00, 259.16it/s]\n",
            "accuracy: 0.8082, loss: 0.6458 ||: 100%|██████████| 12/12 [00:00<00:00, 452.20it/s]\n",
            "accuracy: 0.8801, loss: 0.3271 ||: 100%|██████████| 281/281 [00:01<00:00, 261.33it/s]\n",
            "accuracy: 0.8143, loss: 0.6338 ||: 100%|██████████| 12/12 [00:00<00:00, 483.58it/s]\n",
            "accuracy: 0.8806, loss: 0.3226 ||: 100%|██████████| 281/281 [00:01<00:00, 264.98it/s]\n",
            "accuracy: 0.8143, loss: 0.6641 ||: 100%|██████████| 12/12 [00:00<00:00, 453.74it/s]\n",
            "accuracy: 0.8815, loss: 0.3234 ||: 100%|██████████| 281/281 [00:01<00:00, 265.62it/s]\n",
            "accuracy: 0.8245, loss: 0.6371 ||: 100%|██████████| 12/12 [00:00<00:00, 456.13it/s]\n",
            "accuracy: 0.8848, loss: 0.3178 ||: 100%|██████████| 281/281 [00:01<00:00, 263.39it/s]\n",
            "accuracy: 0.8306, loss: 0.6191 ||: 100%|██████████| 12/12 [00:00<00:00, 434.33it/s]\n",
            "accuracy: 0.8858, loss: 0.3177 ||: 100%|██████████| 281/281 [00:01<00:00, 263.19it/s]\n",
            "accuracy: 0.8306, loss: 0.6081 ||: 100%|██████████| 12/12 [00:00<00:00, 445.73it/s]\n",
            "accuracy: 0.8860, loss: 0.3142 ||: 100%|██████████| 281/281 [00:01<00:00, 262.61it/s]\n",
            "accuracy: 0.8347, loss: 0.6083 ||: 100%|██████████| 12/12 [00:00<00:00, 456.13it/s]\n",
            "accuracy: 0.8894, loss: 0.3118 ||: 100%|██████████| 281/281 [00:01<00:00, 258.67it/s]\n",
            "accuracy: 0.8347, loss: 0.6106 ||: 100%|██████████| 12/12 [00:00<00:00, 387.47it/s]\n",
            "accuracy: 0.8888, loss: 0.3099 ||: 100%|██████████| 281/281 [00:01<00:00, 263.52it/s]\n",
            "accuracy: 0.8388, loss: 0.6005 ||: 100%|██████████| 12/12 [00:00<00:00, 491.55it/s]\n",
            "accuracy: 0.8920, loss: 0.3074 ||: 100%|██████████| 281/281 [00:01<00:00, 259.10it/s]\n",
            "accuracy: 0.8408, loss: 0.6096 ||: 100%|██████████| 12/12 [00:00<00:00, 394.57it/s]\n",
            "accuracy: 0.8923, loss: 0.3064 ||: 100%|██████████| 281/281 [00:01<00:00, 264.66it/s]\n",
            "accuracy: 0.8408, loss: 0.5997 ||: 100%|██████████| 12/12 [00:00<00:00, 490.01it/s]\n",
            "accuracy: 0.8944, loss: 0.3017 ||: 100%|██████████| 281/281 [00:01<00:00, 262.69it/s]\n",
            "accuracy: 0.8388, loss: 0.6042 ||: 100%|██████████| 12/12 [00:00<00:00, 424.96it/s]\n",
            "accuracy: 0.8932, loss: 0.3018 ||: 100%|██████████| 281/281 [00:01<00:00, 263.60it/s]\n",
            "accuracy: 0.8429, loss: 0.5862 ||: 100%|██████████| 12/12 [00:00<00:00, 430.03it/s]\n",
            "accuracy: 0.8937, loss: 0.2977 ||: 100%|██████████| 281/281 [00:01<00:00, 263.77it/s]\n",
            "accuracy: 0.8429, loss: 0.5851 ||: 100%|██████████| 12/12 [00:00<00:00, 399.06it/s]\n",
            "accuracy: 0.8927, loss: 0.2951 ||: 100%|██████████| 281/281 [00:01<00:00, 268.47it/s]\n",
            "accuracy: 0.8429, loss: 0.5858 ||: 100%|██████████| 12/12 [00:00<00:00, 459.43it/s]\n",
            "accuracy: 0.8931, loss: 0.2960 ||: 100%|██████████| 281/281 [00:01<00:00, 265.96it/s]\n",
            "accuracy: 0.8429, loss: 0.5756 ||: 100%|██████████| 12/12 [00:00<00:00, 435.62it/s]\n",
            "accuracy: 0.8934, loss: 0.2925 ||: 100%|██████████| 281/281 [00:01<00:00, 265.78it/s]\n",
            "accuracy: 0.8490, loss: 0.5696 ||: 100%|██████████| 12/12 [00:00<00:00, 454.25it/s]\n",
            "accuracy: 0.8968, loss: 0.2880 ||: 100%|██████████| 281/281 [00:01<00:00, 259.88it/s]\n",
            "accuracy: 0.8531, loss: 0.5594 ||: 100%|██████████| 12/12 [00:00<00:00, 485.91it/s]\n",
            "accuracy: 0.8957, loss: 0.2879 ||: 100%|██████████| 281/281 [00:01<00:00, 257.70it/s]\n",
            "accuracy: 0.8490, loss: 0.5686 ||: 100%|██████████| 12/12 [00:00<00:00, 434.27it/s]\n",
            "accuracy: 0.8964, loss: 0.2868 ||: 100%|██████████| 281/281 [00:01<00:00, 261.75it/s]\n",
            "accuracy: 0.8449, loss: 0.5801 ||: 100%|██████████| 12/12 [00:00<00:00, 514.28it/s]\n",
            "accuracy: 0.8998, loss: 0.2842 ||: 100%|██████████| 281/281 [00:01<00:00, 259.47it/s]\n",
            "accuracy: 0.8510, loss: 0.5397 ||: 100%|██████████| 12/12 [00:00<00:00, 487.79it/s]\n",
            "accuracy: 0.9004, loss: 0.2796 ||: 100%|██████████| 281/281 [00:01<00:00, 258.25it/s]\n",
            "accuracy: 0.8449, loss: 0.5446 ||: 100%|██████████| 12/12 [00:00<00:00, 430.88it/s]\n",
            "accuracy: 0.9005, loss: 0.2788 ||: 100%|██████████| 281/281 [00:01<00:00, 263.60it/s]\n",
            "accuracy: 0.8592, loss: 0.5401 ||: 100%|██████████| 12/12 [00:00<00:00, 423.10it/s]\n",
            "accuracy: 0.9022, loss: 0.2764 ||: 100%|██████████| 281/281 [00:01<00:00, 258.88it/s]\n",
            "accuracy: 0.8551, loss: 0.5352 ||: 100%|██████████| 12/12 [00:00<00:00, 475.03it/s]\n",
            "accuracy: 0.9027, loss: 0.2729 ||: 100%|██████████| 281/281 [00:01<00:00, 256.02it/s]\n",
            "accuracy: 0.8531, loss: 0.5397 ||: 100%|██████████| 12/12 [00:00<00:00, 487.03it/s]\n",
            "accuracy: 0.9051, loss: 0.2702 ||: 100%|██████████| 281/281 [00:01<00:00, 270.75it/s]\n",
            "accuracy: 0.8531, loss: 0.5302 ||: 100%|██████████| 12/12 [00:00<00:00, 479.46it/s]\n",
            "accuracy: 0.9051, loss: 0.2676 ||: 100%|██████████| 281/281 [00:01<00:00, 266.97it/s]\n",
            "accuracy: 0.8531, loss: 0.5197 ||: 100%|██████████| 12/12 [00:00<00:00, 477.69it/s]\n",
            "accuracy: 0.9044, loss: 0.2655 ||: 100%|██████████| 281/281 [00:01<00:00, 260.47it/s]\n",
            "accuracy: 0.8551, loss: 0.5177 ||: 100%|██████████| 12/12 [00:00<00:00, 475.52it/s]\n",
            "accuracy: 0.9054, loss: 0.2620 ||: 100%|██████████| 281/281 [00:01<00:00, 263.54it/s]\n",
            "accuracy: 0.8592, loss: 0.5048 ||: 100%|██████████| 12/12 [00:00<00:00, 527.49it/s]\n",
            "accuracy: 0.9067, loss: 0.2592 ||: 100%|██████████| 281/281 [00:01<00:00, 262.40it/s]\n",
            "accuracy: 0.8633, loss: 0.5194 ||: 100%|██████████| 12/12 [00:00<00:00, 478.05it/s]\n",
            "accuracy: 0.9077, loss: 0.2574 ||: 100%|██████████| 281/281 [00:01<00:00, 263.39it/s]\n",
            "accuracy: 0.8653, loss: 0.5011 ||: 100%|██████████| 12/12 [00:00<00:00, 479.94it/s]\n",
            "accuracy: 0.9089, loss: 0.2563 ||: 100%|██████████| 281/281 [00:01<00:00, 262.51it/s]\n",
            "accuracy: 0.8571, loss: 0.4942 ||: 100%|██████████| 12/12 [00:00<00:00, 467.26it/s]\n",
            "accuracy: 0.9095, loss: 0.2542 ||: 100%|██████████| 281/281 [00:01<00:00, 259.90it/s]\n",
            "accuracy: 0.8673, loss: 0.4997 ||: 100%|██████████| 12/12 [00:00<00:00, 456.26it/s]\n",
            "accuracy: 0.9098, loss: 0.2513 ||: 100%|██████████| 281/281 [00:01<00:00, 260.84it/s]\n",
            "accuracy: 0.8612, loss: 0.4849 ||: 100%|██████████| 12/12 [00:00<00:00, 495.00it/s]\n",
            "accuracy: 0.9112, loss: 0.2486 ||: 100%|██████████| 281/281 [00:01<00:00, 263.39it/s]\n",
            "accuracy: 0.8612, loss: 0.4848 ||: 100%|██████████| 12/12 [00:00<00:00, 474.52it/s]\n",
            "accuracy: 0.9123, loss: 0.2468 ||: 100%|██████████| 281/281 [00:01<00:00, 262.48it/s]\n",
            "accuracy: 0.8633, loss: 0.4752 ||: 100%|██████████| 12/12 [00:00<00:00, 455.56it/s]\n",
            "accuracy: 0.9134, loss: 0.2447 ||: 100%|██████████| 281/281 [00:01<00:00, 262.42it/s]\n",
            "accuracy: 0.8714, loss: 0.4820 ||: 100%|██████████| 12/12 [00:00<00:00, 420.51it/s]\n",
            "accuracy: 0.9145, loss: 0.2410 ||: 100%|██████████| 281/281 [00:01<00:00, 265.37it/s]\n",
            "accuracy: 0.8612, loss: 0.4731 ||: 100%|██████████| 12/12 [00:00<00:00, 455.21it/s]\n",
            "accuracy: 0.9158, loss: 0.2415 ||: 100%|██████████| 281/281 [00:01<00:00, 262.34it/s]\n",
            "accuracy: 0.8694, loss: 0.4739 ||: 100%|██████████| 12/12 [00:00<00:00, 454.77it/s]\n",
            "accuracy: 0.9153, loss: 0.2398 ||: 100%|██████████| 281/281 [00:01<00:00, 241.28it/s]\n",
            "accuracy: 0.8653, loss: 0.4688 ||: 100%|██████████| 12/12 [00:00<00:00, 505.15it/s]\n",
            "accuracy: 0.9166, loss: 0.2363 ||: 100%|██████████| 281/281 [00:01<00:00, 250.47it/s]\n",
            "accuracy: 0.8653, loss: 0.4629 ||: 100%|██████████| 12/12 [00:00<00:00, 437.35it/s]\n",
            "accuracy: 0.9164, loss: 0.2358 ||: 100%|██████████| 281/281 [00:01<00:00, 238.29it/s]\n",
            "accuracy: 0.8694, loss: 0.4706 ||: 100%|██████████| 12/12 [00:00<00:00, 317.95it/s]\n",
            "accuracy: 0.9158, loss: 0.2328 ||: 100%|██████████| 281/281 [00:01<00:00, 257.04it/s]\n",
            "accuracy: 0.8694, loss: 0.4558 ||: 100%|██████████| 12/12 [00:00<00:00, 452.11it/s]\n",
            "accuracy: 0.9173, loss: 0.2304 ||: 100%|██████████| 281/281 [00:01<00:00, 255.44it/s]\n",
            "accuracy: 0.8694, loss: 0.4640 ||: 100%|██████████| 12/12 [00:00<00:00, 451.67it/s]\n",
            "accuracy: 0.9177, loss: 0.2265 ||: 100%|██████████| 281/281 [00:01<00:00, 257.39it/s]\n",
            "accuracy: 0.8673, loss: 0.4631 ||: 100%|██████████| 12/12 [00:00<00:00, 509.67it/s]\n",
            "accuracy: 0.9183, loss: 0.2277 ||: 100%|██████████| 281/281 [00:01<00:00, 258.18it/s]\n",
            "accuracy: 0.8673, loss: 0.4411 ||: 100%|██████████| 12/12 [00:00<00:00, 421.27it/s]\n",
            "accuracy: 0.9192, loss: 0.2260 ||: 100%|██████████| 281/281 [00:01<00:00, 256.96it/s]\n",
            "accuracy: 0.8714, loss: 0.4419 ||: 100%|██████████| 12/12 [00:00<00:00, 418.91it/s]\n",
            "accuracy: 0.9189, loss: 0.2236 ||: 100%|██████████| 281/281 [00:01<00:00, 253.68it/s]\n",
            "accuracy: 0.8755, loss: 0.4375 ||: 100%|██████████| 12/12 [00:00<00:00, 430.34it/s]\n",
            "accuracy: 0.9197, loss: 0.2222 ||: 100%|██████████| 281/281 [00:01<00:00, 260.74it/s]\n",
            "accuracy: 0.8735, loss: 0.4472 ||: 100%|██████████| 12/12 [00:00<00:00, 462.97it/s]\n",
            "accuracy: 0.9182, loss: 0.2207 ||: 100%|██████████| 281/281 [00:01<00:00, 263.15it/s]\n",
            "accuracy: 0.8714, loss: 0.4359 ||: 100%|██████████| 12/12 [00:00<00:00, 498.25it/s]\n",
            "accuracy: 0.9203, loss: 0.2185 ||: 100%|██████████| 281/281 [00:01<00:00, 259.38it/s]\n",
            "accuracy: 0.8714, loss: 0.4296 ||: 100%|██████████| 12/12 [00:00<00:00, 464.26it/s]\n",
            "accuracy: 0.9202, loss: 0.2182 ||: 100%|██████████| 281/281 [00:01<00:00, 264.62it/s]\n",
            "accuracy: 0.8694, loss: 0.4369 ||: 100%|██████████| 12/12 [00:00<00:00, 454.06it/s]\n",
            "accuracy: 0.9213, loss: 0.2152 ||: 100%|██████████| 281/281 [00:01<00:00, 259.82it/s]\n",
            "accuracy: 0.8714, loss: 0.4274 ||: 100%|██████████| 12/12 [00:00<00:00, 420.99it/s]\n",
            "accuracy: 0.9217, loss: 0.2142 ||: 100%|██████████| 281/281 [00:01<00:00, 263.70it/s]\n",
            "accuracy: 0.8735, loss: 0.4282 ||: 100%|██████████| 12/12 [00:00<00:00, 518.70it/s]\n",
            "accuracy: 0.9221, loss: 0.2124 ||: 100%|██████████| 281/281 [00:01<00:00, 260.68it/s]\n",
            "accuracy: 0.8796, loss: 0.4073 ||: 100%|██████████| 12/12 [00:00<00:00, 512.32it/s]\n",
            "accuracy: 0.9229, loss: 0.2108 ||: 100%|██████████| 281/281 [00:01<00:00, 262.23it/s]\n",
            "accuracy: 0.8755, loss: 0.4212 ||: 100%|██████████| 12/12 [00:00<00:00, 507.44it/s]\n",
            "accuracy: 0.9229, loss: 0.2086 ||: 100%|██████████| 281/281 [00:01<00:00, 263.45it/s]\n",
            "accuracy: 0.8755, loss: 0.4091 ||: 100%|██████████| 12/12 [00:00<00:00, 448.37it/s]\n",
            "accuracy: 0.9239, loss: 0.2055 ||: 100%|██████████| 281/281 [00:01<00:00, 262.85it/s]\n",
            "accuracy: 0.8776, loss: 0.4059 ||: 100%|██████████| 12/12 [00:00<00:00, 419.38it/s]\n",
            "accuracy: 0.9228, loss: 0.2069 ||: 100%|██████████| 281/281 [00:01<00:00, 262.72it/s]\n",
            "accuracy: 0.8755, loss: 0.4094 ||: 100%|██████████| 12/12 [00:00<00:00, 514.88it/s]\n",
            "accuracy: 0.9245, loss: 0.2039 ||: 100%|██████████| 281/281 [00:01<00:00, 262.46it/s]\n",
            "accuracy: 0.8776, loss: 0.4025 ||: 100%|██████████| 12/12 [00:00<00:00, 503.50it/s]\n",
            "accuracy: 0.9244, loss: 0.2021 ||: 100%|██████████| 281/281 [00:01<00:00, 256.23it/s]\n",
            "accuracy: 0.8755, loss: 0.3968 ||: 100%|██████████| 12/12 [00:00<00:00, 482.97it/s]\n",
            "accuracy: 0.9238, loss: 0.2009 ||: 100%|██████████| 281/281 [00:01<00:00, 259.34it/s]\n",
            "accuracy: 0.8776, loss: 0.3909 ||: 100%|██████████| 12/12 [00:00<00:00, 413.21it/s]\n"
          ],
          "name": "stderr"
        },
        {
          "output_type": "execute_result",
          "data": {
            "text/plain": [
              "{'best_epoch': 99,\n",
              " 'best_validation_accuracy': 0.8775510204081632,\n",
              " 'best_validation_loss': 0.39094804097355035,\n",
              " 'epoch': 99,\n",
              " 'peak_cpu_memory_MB': 3224.744,\n",
              " 'peak_gpu_0_memory_MB': 1060,\n",
              " 'training_accuracy': 0.923842813261307,\n",
              " 'training_cpu_memory_MB': 3224.744,\n",
              " 'training_duration': '0:01:58.029201',\n",
              " 'training_epochs': 99,\n",
              " 'training_gpu_0_memory_MB': 1060,\n",
              " 'training_loss': 0.20094933152779626,\n",
              " 'training_start_epoch': 0,\n",
              " 'validation_accuracy': 0.8775510204081632,\n",
              " 'validation_loss': 0.39094804097355035}"
            ]
          },
          "metadata": {
            "tags": []
          },
          "execution_count": 5
        }
      ]
    },
    {
      "cell_type": "markdown",
      "metadata": {
        "id": "mwN6ctqVV0tf"
      },
      "source": [
        "## Evaluation"
      ]
    },
    {
      "cell_type": "markdown",
      "metadata": {
        "id": "qkDs_UdIeuFz"
      },
      "source": [
        "The simple code below loops over the validation set, applying the model to each exmaple and collecting out the input token, gold-standard output, and model output. You can see from these methods how to access ground truth and model outputs for evaluation."
      ]
    },
    {
      "cell_type": "code",
      "metadata": {
        "colab": {
          "base_uri": "https://localhost:8080/"
        },
        "id": "paPYJbvHs-Ro",
        "outputId": "c2cf7791-db2b-4903-acd8-a81b9ab1b651"
      },
      "source": [
        "model.forward_on_instance(validation_dataset[0])['tag_logits'].shape\n"
      ],
      "execution_count": 6,
      "outputs": [
        {
          "output_type": "execute_result",
          "data": {
            "text/plain": [
              "(27, 34)"
            ]
          },
          "metadata": {
            "tags": []
          },
          "execution_count": 6
        }
      ]
    },
    {
      "cell_type": "code",
      "metadata": {
        "id": "S0bE4fmLik08",
        "colab": {
          "base_uri": "https://localhost:8080/"
        },
        "outputId": "60431a52-abd7-43d6-c6ab-f999d56a9a5f"
      },
      "source": [
        "def tag_sentence(s):\n",
        "  tag_ids = np.argmax(model.forward_on_instance(s)['tag_logits'], axis=-1)\n",
        "  fields = zip(s['tokens'], s['tags'], [model.vocab.get_token_from_index(i, 'labels') for i in tag_ids])\n",
        "  return list(fields)\n",
        "\n",
        "baseline_output = [tag_sentence(i) for i in validation_dataset]\n",
        "## Show the first example\n",
        "baseline_output[0]"
      ],
      "execution_count": 7,
      "outputs": [
        {
          "output_type": "stream",
          "text": [
            "(27,)\n",
            "(25,)\n",
            "(12,)\n",
            "(12,)\n",
            "(26,)\n",
            "(12,)\n",
            "(15,)\n",
            "(9,)\n",
            "(17,)\n",
            "(29,)\n",
            "(21,)\n",
            "(69,)\n",
            "(16,)\n",
            "(22,)\n",
            "(27,)\n",
            "(25,)\n",
            "(25,)\n",
            "(30,)\n",
            "(7,)\n",
            "(9,)\n",
            "(19,)\n",
            "(10,)\n",
            "(26,)\n"
          ],
          "name": "stdout"
        },
        {
          "output_type": "execute_result",
          "data": {
            "text/plain": [
              "[(With, 'O', 'O'),\n",
              " (a, 'O', 'O'),\n",
              " (wave, 'O', 'O'),\n",
              " (of, 'O', 'O'),\n",
              " (his, 'O', 'O'),\n",
              " (hand, 'O', 'O'),\n",
              " (,, 'O', 'O'),\n",
              " (Peng, 'B-PERSON', 'B-PERSON'),\n",
              " (Dehuai, 'I-PERSON', 'I-ORG'),\n",
              " (said, 'O', 'O'),\n",
              " (that, 'O', 'O'),\n",
              " (despite, 'O', 'O'),\n",
              " (being, 'O', 'O'),\n",
              " (over, 'O', 'O'),\n",
              " (100, 'B-CARDINAL', 'B-CARDINAL'),\n",
              " (regiments, 'O', 'O'),\n",
              " (,, 'O', 'O'),\n",
              " (let, 'O', 'O'),\n",
              " ('s, 'O', 'O'),\n",
              " (call, 'O', 'O'),\n",
              " (this, 'O', 'O'),\n",
              " (campaign, 'O', 'O'),\n",
              " (the, 'B-EVENT', 'O'),\n",
              " (Hundred, 'I-EVENT', 'I-EVENT'),\n",
              " (Regiments, 'I-EVENT', 'I-EVENT'),\n",
              " (Offensive, 'I-EVENT', 'I-EVENT'),\n",
              " (., 'O', 'O')]"
            ]
          },
          "metadata": {
            "tags": []
          },
          "execution_count": 7
        }
      ]
    },
    {
      "cell_type": "code",
      "metadata": {
        "id": "ffI7TPQF-scF"
      },
      "source": [
        "def violations(tagged):\n",
        "  count = 0\n",
        "  for i in range(len(tagged)):\n",
        "    for k in range(1,len(tagged[i])):\n",
        "      if tagged[i][0][2][0] == 'I':\n",
        "        count += 1\n",
        "      if tagged[i][k][2][0] == 'I':\n",
        "        if tagged[i][k-1][2][0] == '0':\n",
        "          count += 1\n",
        "        if tagged[i][k-1][2][1:] != tagged[i][k][2][1:]:\n",
        "          count += 1\n",
        "  return count"
      ],
      "execution_count": 8,
      "outputs": []
    },
    {
      "cell_type": "code",
      "metadata": {
        "colab": {
          "base_uri": "https://localhost:8080/"
        },
        "id": "eRqs2onW-t0x",
        "outputId": "9a56ef39-49bd-447b-c932-1bc6458a470b"
      },
      "source": [
        "def is_a_violation(tag1,tag2):\n",
        "  if tag2[0] == 'I':\n",
        "    if tag1[0] == '0':\n",
        "        return True\n",
        "    else:\n",
        "      if tag1[1:] != tag2[1:]:\n",
        "        return True\n",
        "  return False\n",
        "def violations(tagged):\n",
        "  count = 0\n",
        "  for i in range(len(tagged)):\n",
        "    for k in range(1,len(tagged[i])):\n",
        "      if tagged[i][0][2][0] == 'I':\n",
        "        count += 1\n",
        "      tag1 = tagged[i][k-1][2]\n",
        "      tag2 = tagged[i][k][2]\n",
        "      if is_a_violation(tag1,tag2):\n",
        "        count += 1\n",
        "  return count\n",
        "violations(baseline_output)"
      ],
      "execution_count": 9,
      "outputs": [
        {
          "output_type": "execute_result",
          "data": {
            "text/plain": [
              "35"
            ]
          },
          "metadata": {
            "tags": []
          },
          "execution_count": 9
        }
      ]
    },
    {
      "cell_type": "markdown",
      "metadata": {
        "id": "BpYMx7RVfCyT"
      },
      "source": [
        "Now, you can implement two evaluation functions: `violations` and `span_stats`."
      ]
    },
    {
      "cell_type": "code",
      "metadata": {
        "id": "P042A2Ofg3wa",
        "colab": {
          "base_uri": "https://localhost:8080/"
        },
        "outputId": "ec50293a-731f-4cb6-f295-ffc0e10da1b1"
      },
      "source": [
        "# TODO: count the number of NER label violations,\n",
        "# such as O followed by I-TYPE or B-TYPE followed by\n",
        "# I-OTHER_TYPE\n",
        "# Take tagger output as input\n",
        "def is_a_violation(tag1,tag2):\n",
        "  if tag2[0] == 'I':\n",
        "    if tag1[0] == '0':\n",
        "        return True\n",
        "    else:\n",
        "      if tag1[1:] != tag2[1:]:\n",
        "        return True\n",
        "  return False\n",
        "def violations(tagged):\n",
        "  count = 0\n",
        "  for i in range(len(tagged)):\n",
        "    for k in range(1,len(tagged[i])):\n",
        "      if tagged[i][0][2][0] == 'I':\n",
        "        count += 1\n",
        "      tag1 = tagged[i][k-1][2]\n",
        "      tag2 = tagged[i][k][2]\n",
        "      if is_a_violation(tag1,tag2):\n",
        "        count += 1\n",
        "  return count\n",
        "\n",
        "# TODO: return the span-level precision, recall, and F1\n",
        "# Only count valid spans that start with a B tag,\n",
        "# followed by zero or more I tags of the same type.\n",
        "# This is harsher than the token-level metric that the\n",
        "# LSTM was trained to optimize, but it is the standard way\n",
        "# of evaluating NER systems.\n",
        "# Take tagger output as input\n",
        "def span_stats(tagged):\n",
        "  realtag = [{} for i in range(len(tagged))]\n",
        "  realcount = 0\n",
        "  for i in range(len(tagged)):\n",
        "    for k in range(len(tagged[i])):\n",
        "      if tagged[i][k][1][0] == 'B':\n",
        "        realcount+=1\n",
        "        lag = 1\n",
        "        lenth = 1\n",
        "        tag = tagged[i][k][1]\n",
        "        while tagged[i][k+lag][1][0] =='I' and tagged[i][k+lag][1][1:]==tagged[i][k][1][1:]:\n",
        "          lenth += 1\n",
        "          lag += 1\n",
        "        realtag[i][k] = str(lenth)+tag\n",
        "  predictedtag = [{} for i in range(len(tagged))]\n",
        "  predictedcount = 0\n",
        "  for i in range(len(tagged)):\n",
        "    for k in range(len(tagged[i])):\n",
        "      if tagged[i][k][2][0] == 'B':\n",
        "        predictedcount += 1\n",
        "        lag = 1\n",
        "        lenth = 1\n",
        "        tag = tagged[i][k][2]\n",
        "        while tagged[i][k+lag][2][0] =='I' and tagged[i][k+lag][2][1:]==tagged[i][k][2][1:]:\n",
        "          lenth += 1\n",
        "          lag += 1\n",
        "        predictedtag[i][k] = str(lenth)+tag\n",
        "  count=0\n",
        "  for i in range(len(tagged)):\n",
        "    for key in realtag[i]:\n",
        "      if (key in predictedtag[i] and realtag[i][key] == predictedtag[i][key]):\n",
        "        count += 1\n",
        "  precision = count/ predictedcount\n",
        "  recall = count/ realcount\n",
        "  f1 = (2*precision*recall)/(precision+recall)\n",
        "  return {'precision': precision,\n",
        "          'recall': recall,\n",
        "          'f1': f1}\n",
        "\n",
        "## You can check how many violations are made by the model output in predictor.\n",
        "violations(baseline_output)\n",
        "span_stats(baseline_output)"
      ],
      "execution_count": 10,
      "outputs": [
        {
          "output_type": "execute_result",
          "data": {
            "text/plain": [
              "{'f1': 0.2608695652173913,\n",
              " 'precision': 0.34615384615384615,\n",
              " 'recall': 0.20930232558139536}"
            ]
          },
          "metadata": {
            "tags": []
          },
          "execution_count": 10
        }
      ]
    },
    {
      "cell_type": "markdown",
      "metadata": {
        "id": "fX7-quD2hnzB"
      },
      "source": [
        "## Decoding"
      ]
    },
    {
      "cell_type": "markdown",
      "metadata": {
        "id": "WCgW9d9ohsGv"
      },
      "source": [
        "Now you can finally implement the simple Viterbi decoder. The `model` object, when applied to an input sentence, first calculates the scores for each possible output tag for each token. See the expression `model.forward_on_instance(s)['tag_logits']` in the code above.\n",
        "\n",
        "Then, you will construct a transition matrix. You can use the code below to get a list of the tags the model knows about. For a set of K tags, construct a K-by-K matrix with a log(1)=0 when a transition between a given tag pair is valid and a log(0)=-infinity otherwise.\n",
        "\n",
        "Finally, implement a Viterbi decoder that takes the model object and a dataset object and outputs tagged data, just like the `tag_sentence` function above. It should use the Viterbi algorithm with the (max, plus) semiring. You'll be working with sums of log probabilities instead of products of probabilties.\n",
        "\n",
        "Run your `violations` function on the output of this decoder to make sure that there are no invalid tag transitions. Also, compare the span-level metrics on `baseline_output` and your new output using your `span_stats` function."
      ]
    },
    {
      "cell_type": "code",
      "metadata": {
        "colab": {
          "base_uri": "https://localhost:8080/"
        },
        "id": "Smv9XfmUTS7Z",
        "outputId": "5aa9d38b-52e5-4e13-d242-2c1973a4225d"
      },
      "source": [
        "print(vocab.get_index_to_token_vocabulary('labels'))\n",
        "len(vocab.get_index_to_token_vocabulary('labels'))\n",
        "type(vocab.get_index_to_token_vocabulary('labels'))\n",
        "import numpy as np\n",
        "np.log(1)\n",
        "np.log(0)\n",
        "tags = vocab.get_index_to_token_vocabulary('labels')\n",
        "k = len(tags)\n",
        "transition_matrix = np.zeros(shape=(k,k))\n",
        "for i in range(k):\n",
        "  for n in range(k):\n",
        "    if is_a_violation(tags[i], tags[n]): \n",
        "      transition_matrix[i][n] = np.log(0)\n",
        "    else:\n",
        "      transition_matrix[i][n] = np.log(1)\n",
        "transition_matrix[4,5]"
      ],
      "execution_count": 11,
      "outputs": [
        {
          "output_type": "stream",
          "text": [
            "{0: 'O', 1: 'B-GPE', 2: 'I-ORG', 3: 'I-DATE', 4: 'B-CARDINAL', 5: 'I-EVENT', 6: 'B-PERSON', 7: 'B-NORP', 8: 'B-DATE', 9: 'B-ORG', 10: 'B-LOC', 11: 'I-LOC', 12: 'I-FAC', 13: 'I-PERSON', 14: 'I-GPE', 15: 'I-CARDINAL', 16: 'B-EVENT', 17: 'I-TIME', 18: 'I-WORK_OF_ART', 19: 'B-ORDINAL', 20: 'B-FAC', 21: 'B-TIME', 22: 'I-LAW', 23: 'I-QUANTITY', 24: 'I-NORP', 25: 'I-MONEY', 26: 'B-MONEY', 27: 'B-WORK_OF_ART', 28: 'B-QUANTITY', 29: 'B-LAW', 30: 'B-PRODUCT', 31: 'I-PRODUCT', 32: 'B-PERCENT', 33: 'I-PERCENT'}\n"
          ],
          "name": "stdout"
        },
        {
          "output_type": "stream",
          "text": [
            "/usr/local/lib/python3.7/dist-packages/ipykernel_launcher.py:6: RuntimeWarning: divide by zero encountered in log\n",
            "  \n",
            "/usr/local/lib/python3.7/dist-packages/ipykernel_launcher.py:13: RuntimeWarning: divide by zero encountered in log\n",
            "  del sys.path[0]\n"
          ],
          "name": "stderr"
        },
        {
          "output_type": "execute_result",
          "data": {
            "text/plain": [
              "-inf"
            ]
          },
          "metadata": {
            "tags": []
          },
          "execution_count": 11
        }
      ]
    },
    {
      "cell_type": "code",
      "metadata": {
        "id": "nlP8vZhiS68K",
        "colab": {
          "base_uri": "https://localhost:8080/"
        },
        "outputId": "90078548-232d-445d-fa11-d9a47f7a0dc5"
      },
      "source": [
        "# This code shows how to map from output vector components to labels\n",
        "import math\n",
        "import numpy as np\n",
        "print(vocab.get_index_to_token_vocabulary('labels'))\n",
        "# For each sentence in validation dataset:\n",
        "# def tag_sentence(s):\n",
        "#   tag_ids = np.argmax(model.forward_on_instance(s)['tag_logits'], axis=-1)\n",
        "#   fields = zip(s['tokens'], s['tags'], [model.vocab.get_token_from_index(i, 'labels') for i in tag_ids])\n",
        "#   return list(fields)\n",
        "tags = vocab.get_index_to_token_vocabulary('labels')\n",
        "\n",
        "def cfr(s):\n",
        "  k = len(tags)\n",
        "  transition_matrix = np.zeros(shape=(k,k))\n",
        "  for i in range(k):\n",
        "    for n in range(k):\n",
        "      if is_a_violation(tags[i], tags[n]): \n",
        "        transition_matrix[i][n] = np.log(0)\n",
        "      else:\n",
        "        transition_matrix[i][n] = np.log(1) \n",
        "  emission_scores = model.forward_on_instance(s)['tag_logits']\n",
        "  n = len(emission_scores)\n",
        "  dp_table = np.zeros((n,k))\n",
        "  backtracking_table = np.zeros((n,k))\n",
        "  dp_table[0] = emission_scores[0]\n",
        "  for word_index in range(1, n):\n",
        "    for tag_index in range(len(tags)):\n",
        "      tmp = [0]*k\n",
        "      for j in range(k):\n",
        "        tmp[j] = dp_table[word_index-1][j] + transition_matrix[j][tag_index]\n",
        "      index = np.argmax(tmp)\n",
        "      maxroute = tmp[index]\n",
        "      dp_table[word_index][tag_index] = emission_scores[word_index][tag_index] + maxroute\n",
        "      backtracking_table[word_index][tag_index] = index\n",
        "\n",
        "\n",
        "  path = np.zeros(n)\n",
        "  maxindex = np.argmax(dp_table[n-1])\n",
        "  path[n-1] = maxindex\n",
        "  for i in range(n-2,-1,-1):\n",
        "    path[i]= backtracking_table[i+1][maxindex]\n",
        "\n",
        "    maxindex = int(backtracking_table[i+1][maxindex])\n",
        "  return path"
      ],
      "execution_count": 12,
      "outputs": [
        {
          "output_type": "stream",
          "text": [
            "{0: 'O', 1: 'B-GPE', 2: 'I-ORG', 3: 'I-DATE', 4: 'B-CARDINAL', 5: 'I-EVENT', 6: 'B-PERSON', 7: 'B-NORP', 8: 'B-DATE', 9: 'B-ORG', 10: 'B-LOC', 11: 'I-LOC', 12: 'I-FAC', 13: 'I-PERSON', 14: 'I-GPE', 15: 'I-CARDINAL', 16: 'B-EVENT', 17: 'I-TIME', 18: 'I-WORK_OF_ART', 19: 'B-ORDINAL', 20: 'B-FAC', 21: 'B-TIME', 22: 'I-LAW', 23: 'I-QUANTITY', 24: 'I-NORP', 25: 'I-MONEY', 26: 'B-MONEY', 27: 'B-WORK_OF_ART', 28: 'B-QUANTITY', 29: 'B-LAW', 30: 'B-PRODUCT', 31: 'I-PRODUCT', 32: 'B-PERCENT', 33: 'I-PERCENT'}\n"
          ],
          "name": "stdout"
        }
      ]
    },
    {
      "cell_type": "code",
      "metadata": {
        "colab": {
          "base_uri": "https://localhost:8080/"
        },
        "id": "SvZXpPVZgYNR",
        "outputId": "6b4e5752-46c1-4922-d55c-dfe824f2a7c0"
      },
      "source": [
        "def cfr_tag_sentence(s):\n",
        "  tag_ids = cfr(s)\n",
        "  fields = zip(s['tokens'], s['tags'], [model.vocab.get_token_from_index(i, 'labels') for i in tag_ids])\n",
        "  return list(fields)\n",
        "\n",
        "cfr_output = [cfr_tag_sentence(i) for i in validation_dataset]\n",
        "## Show the first example\n",
        "cfr_output[0]\n"
      ],
      "execution_count": 13,
      "outputs": [
        {
          "output_type": "stream",
          "text": [
            "/usr/local/lib/python3.7/dist-packages/ipykernel_launcher.py:18: RuntimeWarning: divide by zero encountered in log\n"
          ],
          "name": "stderr"
        },
        {
          "output_type": "execute_result",
          "data": {
            "text/plain": [
              "[(With, 'O', 'O'),\n",
              " (a, 'O', 'O'),\n",
              " (wave, 'O', 'O'),\n",
              " (of, 'O', 'O'),\n",
              " (his, 'O', 'O'),\n",
              " (hand, 'O', 'O'),\n",
              " (,, 'O', 'O'),\n",
              " (Peng, 'B-PERSON', 'B-PERSON'),\n",
              " (Dehuai, 'I-PERSON', 'I-PERSON'),\n",
              " (said, 'O', 'O'),\n",
              " (that, 'O', 'O'),\n",
              " (despite, 'O', 'O'),\n",
              " (being, 'O', 'O'),\n",
              " (over, 'O', 'O'),\n",
              " (100, 'B-CARDINAL', 'B-CARDINAL'),\n",
              " (regiments, 'O', 'O'),\n",
              " (,, 'O', 'O'),\n",
              " (let, 'O', 'O'),\n",
              " ('s, 'O', 'O'),\n",
              " (call, 'O', 'O'),\n",
              " (this, 'O', 'O'),\n",
              " (campaign, 'O', 'O'),\n",
              " (the, 'B-EVENT', 'B-EVENT'),\n",
              " (Hundred, 'I-EVENT', 'I-EVENT'),\n",
              " (Regiments, 'I-EVENT', 'I-EVENT'),\n",
              " (Offensive, 'I-EVENT', 'I-EVENT'),\n",
              " (., 'O', 'O')]"
            ]
          },
          "metadata": {
            "tags": []
          },
          "execution_count": 13
        }
      ]
    },
    {
      "cell_type": "code",
      "metadata": {
        "colab": {
          "base_uri": "https://localhost:8080/"
        },
        "id": "ORu6_yTnj4kT",
        "outputId": "d1f8a681-77b2-453f-b4cf-ef9f3ca6cec2"
      },
      "source": [
        "violations(cfr_output)\n",
        "span_stats(cfr_output)"
      ],
      "execution_count": 14,
      "outputs": [
        {
          "output_type": "execute_result",
          "data": {
            "text/plain": [
              "{'f1': 0.3953488372093023,\n",
              " 'precision': 0.3953488372093023,\n",
              " 'recall': 0.3953488372093023}"
            ]
          },
          "metadata": {
            "tags": []
          },
          "execution_count": 14
        }
      ]
    }
  ]
}