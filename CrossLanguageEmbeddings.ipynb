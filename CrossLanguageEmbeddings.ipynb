{
  "nbformat": 4,
  "nbformat_minor": 0,
  "metadata": {
    "colab": {
      "name": "“CrossLanguageEmbeddings.ipynb”的副本",
      "provenance": [],
      "include_colab_link": true
    },
    "kernelspec": {
      "name": "python3",
      "display_name": "Python 3"
    }
  },
  "cells": [
    {
      "cell_type": "markdown",
      "metadata": {
        "id": "view-in-github",
        "colab_type": "text"
      },
      "source": [
        "<a href=\"https://colab.research.google.com/github/parkerhale/money/blob/master/CrossLanguageEmbeddings.ipynb\" target=\"_parent\"><img src=\"https://colab.research.google.com/assets/colab-badge.svg\" alt=\"Open In Colab\"/></a>"
      ]
    },
    {
      "cell_type": "markdown",
      "metadata": {
        "id": "oDsn_Motja8Q"
      },
      "source": [
        "# Cross-Language Word Embeddings\n",
        "\n",
        "We have mentioned, and will discuss in more detail this week, how we can reduce the dimensionality of word representations from their original vectors space to an embedding space on the order of a few hundred dimensions. Different modeling choices for word embeddings may be ultimately evaluated by the effectiveness of classifiers, parsers, and other inference models that use those embeddings.\n",
        "\n",
        "In this assignment, however, we will consider another common method of evaluating word embeddings: by judging the usefulness of pairwise distances between words in the embedding space.\n",
        "\n",
        "Follow along with the examples in this notebook, and implement the sections of code flagged with **TODO**."
      ]
    },
    {
      "cell_type": "code",
      "metadata": {
        "id": "UKm5cPMQ2xHU"
      },
      "source": [
        "import gensim\n",
        "import numpy as np\n",
        "from gensim.test.utils import datapath, get_tmpfile\n",
        "from gensim.models import Word2Vec\n",
        "from gensim.models.word2vec import LineSentence\n",
        "from numpy.linalg import norm\n",
        "from sklearn.metrics.pairwise import cosine_similarity\n"
      ],
      "execution_count": 1,
      "outputs": []
    },
    {
      "cell_type": "markdown",
      "metadata": {
        "id": "sfKjYFDklB4c"
      },
      "source": [
        "We'll start by downloading a plain-text version of the Shakespeare plays we used for the first assignment."
      ]
    },
    {
      "cell_type": "code",
      "metadata": {
        "id": "Dw3bvl1yf5FB",
        "colab": {
          "base_uri": "https://localhost:8080/"
        },
        "outputId": "06c2332c-d3c3-4e1a-c5cf-37ab2192927f"
      },
      "source": [
        "!wget http://www.ccs.neu.edu/home/dasmith/courses/cs6120/shakespeare_plays.txt\n",
        "lines = [s.split() for s in open('shakespeare_plays.txt')]"
      ],
      "execution_count": 2,
      "outputs": [
        {
          "output_type": "stream",
          "text": [
            "--2021-04-17 01:02:22--  http://www.ccs.neu.edu/home/dasmith/courses/cs6120/shakespeare_plays.txt\n",
            "Resolving www.ccs.neu.edu (www.ccs.neu.edu)... 52.70.229.197\n",
            "Connecting to www.ccs.neu.edu (www.ccs.neu.edu)|52.70.229.197|:80... connected.\n",
            "HTTP request sent, awaiting response... 200 OK\n",
            "Length: 4746840 (4.5M) [text/plain]\n",
            "Saving to: ‘shakespeare_plays.txt’\n",
            "\n",
            "shakespeare_plays.t 100%[===================>]   4.53M  3.16MB/s    in 1.4s    \n",
            "\n",
            "2021-04-17 01:02:24 (3.16 MB/s) - ‘shakespeare_plays.txt’ saved [4746840/4746840]\n",
            "\n"
          ],
          "name": "stdout"
        }
      ]
    },
    {
      "cell_type": "markdown",
      "metadata": {
        "id": "5cZ52pEflKKM"
      },
      "source": [
        "Then, we'll estimate a simple word2vec model on the Shakespeare texts."
      ]
    },
    {
      "cell_type": "code",
      "metadata": {
        "id": "eXT5BNPs_zjM"
      },
      "source": [
        "model = Word2Vec(lines)"
      ],
      "execution_count": 3,
      "outputs": []
    },
    {
      "cell_type": "markdown",
      "metadata": {
        "id": "Fzt3lG1-lw33"
      },
      "source": [
        "Even with such a small training set size, you can perform some standard analogy tasks."
      ]
    },
    {
      "cell_type": "code",
      "metadata": {
        "id": "i4ruAqhKC3-R",
        "colab": {
          "base_uri": "https://localhost:8080/"
        },
        "outputId": "3a6a0161-5617-4855-8ce7-078c8a636894"
      },
      "source": [
        "model.wv.most_similar(positive=['king','woman'], negative=['man'])"
      ],
      "execution_count": 4,
      "outputs": [
        {
          "output_type": "execute_result",
          "data": {
            "text/plain": [
              "[('queen', 0.8718737363815308),\n",
              " ('prince', 0.7556900382041931),\n",
              " ('princess', 0.7553396224975586),\n",
              " ('york', 0.7472409605979919),\n",
              " ('son', 0.7314462661743164),\n",
              " ('margaret', 0.7304731607437134),\n",
              " ('duke', 0.7272521257400513),\n",
              " ('gloucester', 0.7091763019561768),\n",
              " ('emperor', 0.7070452570915222),\n",
              " ('sister', 0.70585036277771)]"
            ]
          },
          "metadata": {
            "tags": []
          },
          "execution_count": 4
        }
      ]
    },
    {
      "cell_type": "markdown",
      "metadata": {
        "id": "AJL45y5emjA9"
      },
      "source": [
        "For the rest of this assignment, we will focus on finding words with similar embeddings, both within and across languages. For example, what words are similar to the name of the title character of *Othello*?"
      ]
    },
    {
      "cell_type": "code",
      "metadata": {
        "id": "1EZGroU0KPyj",
        "colab": {
          "base_uri": "https://localhost:8080/"
        },
        "outputId": "def7b10d-7c7e-46da-e4a6-81febedbd3e1"
      },
      "source": [
        "model.wv.most_similar(positive=['othello'])\n",
        "#model.wv.most_similar(positive=['brutus'])"
      ],
      "execution_count": 5,
      "outputs": [
        {
          "output_type": "execute_result",
          "data": {
            "text/plain": [
              "[('desdemona', 0.9401320815086365),\n",
              " ('iago', 0.9354590773582458),\n",
              " ('emilia', 0.9342973828315735),\n",
              " ('cassio', 0.92005455493927),\n",
              " ('imogen', 0.9161376953125),\n",
              " ('anne', 0.9118577837944031),\n",
              " ('ham', 0.9111126065254211),\n",
              " ('pisanio', 0.9106348752975464),\n",
              " ('rosalind', 0.9091321229934692),\n",
              " ('cressida', 0.9067736268043518)]"
            ]
          },
          "metadata": {
            "tags": []
          },
          "execution_count": 5
        }
      ]
    },
    {
      "cell_type": "markdown",
      "metadata": {
        "id": "UM2BT_7zZle3"
      },
      "source": [
        "This search uses cosine similarity. In the default API, you should see the same similarity between the words `othello` and `desdemona` as in the search results above."
      ]
    },
    {
      "cell_type": "code",
      "metadata": {
        "id": "-e32-u4zYFda",
        "colab": {
          "base_uri": "https://localhost:8080/"
        },
        "outputId": "a64e7952-c29f-4cc3-af6c-31add847be68"
      },
      "source": [
        "model.wv.similarity('othello', 'desdemona')"
      ],
      "execution_count": 6,
      "outputs": [
        {
          "output_type": "execute_result",
          "data": {
            "text/plain": [
              "0.940132"
            ]
          },
          "metadata": {
            "tags": []
          },
          "execution_count": 6
        }
      ]
    },
    {
      "cell_type": "markdown",
      "metadata": {
        "id": "c49DwfAmZ6PU"
      },
      "source": [
        "**TODO**: Your **first task**, therefore, is to implement your own cosine similarity function so that you can reuse it outside of the context of the gensim model object."
      ]
    },
    {
      "cell_type": "code",
      "metadata": {
        "id": "ZF0xe_kl_VXZ",
        "colab": {
          "base_uri": "https://localhost:8080/"
        },
        "outputId": "1d5ba427-8b72-4802-8a8e-26740b509408"
      },
      "source": [
        "model.wv['othello']"
      ],
      "execution_count": 7,
      "outputs": [
        {
          "output_type": "execute_result",
          "data": {
            "text/plain": [
              "array([ 0.01523756, -0.58749044, -0.10889357,  0.21127208,  0.6458807 ,\n",
              "       -0.10386229, -0.06792642, -0.008529  , -0.9333201 ,  0.5702431 ,\n",
              "       -0.03729331, -1.1397556 ,  0.6106517 , -0.7049632 ,  0.34696317,\n",
              "        0.14515096,  0.11001667,  0.32215524,  0.11190315, -0.26259276,\n",
              "        0.2704374 , -0.20598127, -0.2153087 , -0.01721105, -0.4045657 ,\n",
              "        0.2550675 ,  0.19392188, -0.37935638,  0.01174349,  0.2714136 ,\n",
              "       -0.14379409, -0.11775048,  0.18948011,  0.62119913, -0.6950616 ,\n",
              "        0.22932003,  0.05903176,  0.28678542,  0.2572997 , -0.4439697 ,\n",
              "       -0.01836766,  0.21567824, -0.23107062,  0.7232963 , -0.57095474,\n",
              "       -0.20920725, -0.22937194, -0.11639921, -0.77027947,  0.24668284,\n",
              "       -0.2999118 , -0.20680666,  0.52772593, -0.36610365,  0.45387712,\n",
              "       -0.7248581 ,  0.11492025, -0.5868485 , -0.27807787,  0.04426297,\n",
              "        0.18532734, -1.1760302 ,  0.4036734 , -0.07873275,  0.58414173,\n",
              "        0.07561832,  0.07537149,  0.39330378, -0.11020439, -0.7644636 ,\n",
              "        0.02063851, -0.8575192 , -0.05822828,  0.55419624,  0.26419082,\n",
              "       -0.02296212, -0.41660422,  0.08576494, -0.5760775 , -0.376751  ,\n",
              "        0.5404217 , -0.3920959 , -0.24021949,  0.57823974, -0.02298863,\n",
              "        0.5710951 , -0.28384933,  0.15912934, -0.59206647, -0.60067517,\n",
              "       -0.02246858,  0.23224232,  0.20378885,  0.09710967, -0.24675009,\n",
              "       -0.22883286, -0.23270896, -0.5802198 , -0.21449444,  0.36747724],\n",
              "      dtype=float32)"
            ]
          },
          "metadata": {
            "tags": []
          },
          "execution_count": 7
        }
      ]
    },
    {
      "cell_type": "code",
      "metadata": {
        "id": "rEj2PqpuZ5xs",
        "colab": {
          "base_uri": "https://localhost:8080/"
        },
        "outputId": "b99cfc5e-7317-4f75-efbf-e0dd4d7ffe65"
      },
      "source": [
        "## TODO: Implement cosim\n",
        "def cosim(v1, v2):\n",
        "  ## return cosine similarity between v1 and v2\n",
        "  return np.dot(v1, v2)/(np.dot(v1, v1)**0.5*np.dot(v2, v2)**0.5)\n",
        "\n",
        "## This should give a result similar to model.wv.similarity:\n",
        "cosim(model.wv['othello'], model.wv['desdemona'])"
      ],
      "execution_count": 8,
      "outputs": [
        {
          "output_type": "execute_result",
          "data": {
            "text/plain": [
              "0.9401320508103402"
            ]
          },
          "metadata": {
            "tags": []
          },
          "execution_count": 8
        }
      ]
    },
    {
      "cell_type": "markdown",
      "metadata": {
        "id": "3TbDqBIHbHfB"
      },
      "source": [
        "## Evaluation\n",
        "\n",
        "We could collect a lot of human judgments about how similar pairs of words, or pairs of Shakespearean characters, are. Then we could compare different word-embedding models by their ability to replicate these human judgments.\n",
        "\n",
        "If we extend our ambition to multiple languages, however, we can use a word translation task to evaluate word embeddings.\n",
        "\n",
        "We will use a subset of [Facebook AI's FastText cross-language embeddings](https://fasttext.cc/docs/en/aligned-vectors.html) for several languages. Your task will be to compare English both to French, and to *one more language* from the following set: Arabic, German, Portuguese, Russian, Spanish, Vietnamese, and Chinese."
      ]
    },
    {
      "cell_type": "code",
      "metadata": {
        "id": "FC_FXRnfq1BO",
        "colab": {
          "base_uri": "https://localhost:8080/"
        },
        "outputId": "7cbf928c-9037-42e7-d127-f89540f84962"
      },
      "source": [
        "!wget http://www.ccs.neu.edu/home/dasmith/courses/cs6120/30k.en.vec\n",
        "!wget http://www.ccs.neu.edu/home/dasmith/courses/cs6120/30k.fr.vec\n",
        "\n",
        "# TODO: uncomment at least one of these to work with another language\n",
        "# !wget http://www.ccs.neu.edu/home/dasmith/courses/cs6120/30k.ar.vec\n",
        "!wget http://www.ccs.neu.edu/home/dasmith/courses/cs6120/30k.de.vec\n",
        "# !wget http://www.ccs.neu.edu/home/dasmith/courses/cs6120/30k.pt.vec\n",
        "# !wget http://www.ccs.neu.edu/home/dasmith/courses/cs6120/30k.ru.vec\n",
        "# !wget http://www.ccs.neu.edu/home/dasmith/courses/cs6120/30k.es.vec\n",
        "# !wget http://www.ccs.neu.edu/home/dasmith/courses/cs6120/30k.vi.vec\n",
        "# !wget http://www.ccs.neu.edu/home/dasmith/courses/cs6120/30k.zh.vec"
      ],
      "execution_count": 9,
      "outputs": [
        {
          "output_type": "stream",
          "text": [
            "--2021-04-17 01:02:33--  http://www.ccs.neu.edu/home/dasmith/courses/cs6120/30k.en.vec\n",
            "Resolving www.ccs.neu.edu (www.ccs.neu.edu)... 52.70.229.197\n",
            "Connecting to www.ccs.neu.edu (www.ccs.neu.edu)|52.70.229.197|:80... connected.\n",
            "HTTP request sent, awaiting response... 200 OK\n",
            "Length: 67681172 (65M)\n",
            "Saving to: ‘30k.en.vec’\n",
            "\n",
            "30k.en.vec          100%[===================>]  64.54M  15.6MB/s    in 5.4s    \n",
            "\n",
            "2021-04-17 01:02:39 (12.0 MB/s) - ‘30k.en.vec’ saved [67681172/67681172]\n",
            "\n",
            "--2021-04-17 01:02:39--  http://www.ccs.neu.edu/home/dasmith/courses/cs6120/30k.fr.vec\n",
            "Resolving www.ccs.neu.edu (www.ccs.neu.edu)... 52.70.229.197\n",
            "Connecting to www.ccs.neu.edu (www.ccs.neu.edu)|52.70.229.197|:80... connected.\n",
            "HTTP request sent, awaiting response... 200 OK\n",
            "Length: 67802327 (65M)\n",
            "Saving to: ‘30k.fr.vec’\n",
            "\n",
            "30k.fr.vec          100%[===================>]  64.66M  16.0MB/s    in 5.3s    \n",
            "\n",
            "2021-04-17 01:02:45 (12.2 MB/s) - ‘30k.fr.vec’ saved [67802327/67802327]\n",
            "\n",
            "--2021-04-17 01:02:45--  http://www.ccs.neu.edu/home/dasmith/courses/cs6120/30k.de.vec\n",
            "Resolving www.ccs.neu.edu (www.ccs.neu.edu)... 52.70.229.197\n",
            "Connecting to www.ccs.neu.edu (www.ccs.neu.edu)|52.70.229.197|:80... connected.\n",
            "HTTP request sent, awaiting response... 200 OK\n",
            "Length: 67798315 (65M)\n",
            "Saving to: ‘30k.de.vec’\n",
            "\n",
            "30k.de.vec          100%[===================>]  64.66M  15.6MB/s    in 5.4s    \n",
            "\n",
            "2021-04-17 01:02:51 (12.1 MB/s) - ‘30k.de.vec’ saved [67798315/67798315]\n",
            "\n"
          ],
          "name": "stdout"
        }
      ]
    },
    {
      "cell_type": "markdown",
      "metadata": {
        "id": "nmuIvGpNrJPe"
      },
      "source": [
        "We'll start by loading the word vectors from their textual file format to a dictionary mapping words to numpy arrays."
      ]
    },
    {
      "cell_type": "code",
      "metadata": {
        "id": "VbWORXkP2Vvn"
      },
      "source": [
        "def vecref(s):\n",
        "  (word, srec) = s.split(' ', 1)\n",
        "  return (word, np.fromstring(srec, sep=' '))\n",
        "\n",
        "def ftvectors(fname):\n",
        "  return { k:v for (k, v) in [vecref(s) for s in open(fname)] if len(v) > 1} \n",
        "\n",
        "envec = ftvectors('30k.en.vec')\n",
        "frvec = ftvectors('30k.fr.vec')\n",
        "\n",
        "# TODO: load vectors for one more language, such as zhvec (Chinese)\n",
        "# arvec = ftvectors('30k.ar.vec')\n",
        "devec = ftvectors('30k.de.vec')\n",
        "# ptvec = ftvectors('30k.pt.vec')\n",
        "# ruvec = ftvectors('30k.ru.vec')\n",
        "# esvec = ftvectors('30k.es.vec')\n",
        "# vivec = ftvectors('30k.vi.vec')\n",
        "# zhvec = ftvectors('30k.zh.vec')"
      ],
      "execution_count": 10,
      "outputs": []
    },
    {
      "cell_type": "markdown",
      "metadata": {
        "id": "j88E1JdueZHc"
      },
      "source": [
        "**TODO**: Your next task is to write a simple function that takes a vector and a dictionary of vectors and finds the most similar item in the dictionary. For this assignment, a linear scan through the dictionary using your `cosim` function from above is acceptible."
      ]
    },
    {
      "cell_type": "code",
      "metadata": {
        "id": "gmdirYOjoSWV",
        "colab": {
          "base_uri": "https://localhost:8080/"
        },
        "outputId": "6449afcc-fa6f-4e33-9064-5f97314b7365"
      },
      "source": [
        "## TODO: implement this search function\n",
        "def mostSimilar(vec, vecDict):\n",
        "  ## Use your cosim function from above\n",
        "  mostSimilar = ''\n",
        "  similarity = 0\n",
        "  values = list(frvec.values())\n",
        "  keys = list(frvec.keys())\n",
        "  for i in range(len(values)):\n",
        "    if cosim(vec,values[i]) > similarity:\n",
        "      mostSimilar = keys[i]\n",
        "      similarity = cosim(vec,values[i])\n",
        "\n",
        "  return (mostSimilar, similarity)\n",
        "\n",
        "## some example searches\n",
        "[mostSimilar(envec[e], frvec) for e in ['computer', 'germany', 'matrix', 'physics', 'yeast']]"
      ],
      "execution_count": 11,
      "outputs": [
        {
          "output_type": "execute_result",
          "data": {
            "text/plain": [
              "[('informatique', 0.5023827767603765),\n",
              " ('allemagne', 0.593718413875964),\n",
              " ('matrice', 0.5088361302065517),\n",
              " ('physique', 0.4555543434796394),\n",
              " ('fermentation', 0.3504105196166514)]"
            ]
          },
          "metadata": {
            "tags": []
          },
          "execution_count": 11
        }
      ]
    },
    {
      "cell_type": "markdown",
      "metadata": {
        "id": "NIKUD5qxpUMB"
      },
      "source": [
        "Some matches make more sense than others. Note that `computer` most closely matches `informatique`, the French term for *computer science*. If you looked further down the list, you would see `ordinateur`, the term for *computer*. This is one weakness of a focus only on embeddings for word *types* independent of context.\n",
        "\n",
        "To evalute cross-language embeddings more broadly, we'll look at a dataset of links between Wikipedia articles."
      ]
    },
    {
      "cell_type": "code",
      "metadata": {
        "id": "az10sIFwsEUP",
        "colab": {
          "base_uri": "https://localhost:8080/"
        },
        "outputId": "3d707a62-1e3e-4ac1-e6a0-f3cd9582c3cc"
      },
      "source": [
        "!wget http://www.ccs.neu.edu/home/dasmith/courses/cs6120/links.tab\n",
        "links = [s.split() for s in open('links.tab')]"
      ],
      "execution_count": 12,
      "outputs": [
        {
          "output_type": "stream",
          "text": [
            "--2021-04-17 01:02:56--  http://www.ccs.neu.edu/home/dasmith/courses/cs6120/links.tab\n",
            "Resolving www.ccs.neu.edu (www.ccs.neu.edu)... 52.70.229.197\n",
            "Connecting to www.ccs.neu.edu (www.ccs.neu.edu)|52.70.229.197|:80... connected.\n",
            "HTTP request sent, awaiting response... 200 OK\n",
            "Length: 1408915 (1.3M)\n",
            "Saving to: ‘links.tab’\n",
            "\n",
            "links.tab           100%[===================>]   1.34M  1.25MB/s    in 1.1s    \n",
            "\n",
            "2021-04-17 01:02:58 (1.25 MB/s) - ‘links.tab’ saved [1408915/1408915]\n",
            "\n"
          ],
          "name": "stdout"
        }
      ]
    },
    {
      "cell_type": "markdown",
      "metadata": {
        "id": "sqHq0hFCv8NY"
      },
      "source": [
        "This `links` variable consists of triples of `(English term, language, term in that language)`. For example, here is the link between English `academy` and French `académie`:"
      ]
    },
    {
      "cell_type": "code",
      "metadata": {
        "id": "RQ7eusdxtdsq",
        "colab": {
          "base_uri": "https://localhost:8080/"
        },
        "outputId": "97c6b1b4-9194-455f-9524-43589fe363b4"
      },
      "source": [
        "links[302]"
      ],
      "execution_count": 13,
      "outputs": [
        {
          "output_type": "execute_result",
          "data": {
            "text/plain": [
              "['academy', 'fr', 'académie']"
            ]
          },
          "metadata": {
            "tags": []
          },
          "execution_count": 13
        }
      ]
    },
    {
      "cell_type": "markdown",
      "metadata": {
        "id": "bYEdOQbmwql3"
      },
      "source": [
        "**TODO**: Evaluate the English and French embeddings by computing the proportion of English Wikipedia articles whose corresponding French article is also the closest word in embedding space. Skip English articles not covered by the word embedding dictionary. Since many articles, e.g., about named entities have the same title in English and French, compute the baseline accuracy achieved by simply echoing the English title as if it were French. Remember to iterate only over English Wikipedia articles, not the entire embedding dictionary."
      ]
    },
    {
      "cell_type": "code",
      "metadata": {
        "colab": {
          "base_uri": "https://localhost:8080/"
        },
        "id": "qLriKN9ktn_f",
        "outputId": "4803aa2e-e29f-443f-acc4-d6d60f3e4acc"
      },
      "source": [
        "## TODO: Compute English-French Wikipedia retrieval accuracy.\n",
        "accuracy = 0\n",
        "baselineAccuracy = 0\n",
        "count = 0\n",
        "correct = 0\n",
        "for i in range(len(links)):\n",
        "  EngWord = links[i][0]\n",
        "  enlist = envec.keys()\n",
        "  if links[i][1] == 'fr':\n",
        "    if EngWord in enlist:\n",
        "      count += 1\n",
        "      EmbeddingWord = mostSimilar(envec[EngWord], frvec)[0]\n",
        "      if EmbeddingWord == links[i][2]:\n",
        "        correct += 1\n",
        "accuracy = correct/count\n",
        "\n",
        "count = 0\n",
        "correct = 0\n",
        "for i in range(len(links)):\n",
        "  EngWord = links[i][0]\n",
        "  enlist = envec.keys()\n",
        "  if links[i][1] == 'fr':\n",
        "    if EngWord in enlist:\n",
        "      count += 1\n",
        "      if links[i][0] == links[i][2]:\n",
        "        correct += 1\n",
        "baselineAccuracy = correct/count\n",
        "print(\"fr_accuracy = \"+ str(accuracy))\n",
        "print(\"fr_baseline accuracy = \"+ str(baselineAccuracy))"
      ],
      "execution_count": 15,
      "outputs": [
        {
          "output_type": "stream",
          "text": [
            "fr_accuracy = 0.5359205593271862\n",
            "fr_baseline accuracy = 0.6742324450298915\n"
          ],
          "name": "stdout"
        }
      ]
    },
    {
      "cell_type": "markdown",
      "metadata": {
        "id": "7hqd1buq-OEo"
      },
      "source": [
        "**TODO**: Compute accuracy and baseline (identity function) acccuracy for Englsih and another language besides French. Although the baseline will be lower for languages not written in the Roman alphabet (i.e., Arabic or Chinese), there are still many articles in those languages with headwords written in Roman characters."
      ]
    },
    {
      "cell_type": "code",
      "metadata": {
        "colab": {
          "base_uri": "https://localhost:8080/"
        },
        "id": "JhME1kH9tR01",
        "outputId": "c48e1646-0105-4ed1-f6ac-f378f7df6d67"
      },
      "source": [
        "## TODO: Compute English-X Wikipedia retrieval accuracy.\n",
        "de_accuracy = 0\n",
        "count = 0\n",
        "correct = 0\n",
        "for i in range(len(links)):\n",
        "  EngWord = links[i][0]\n",
        "  enlist = envec.keys()\n",
        "  if links[i][1] == 'de':\n",
        "    if EngWord in enlist:\n",
        "      count += 1\n",
        "      EmbeddingWord = mostSimilar(envec[EngWord], devec)[0]\n",
        "      if EmbeddingWord == links[i][2]:\n",
        "        correct += 1\n",
        "de_accuracy = correct/count\n",
        "de_baselineAccuracy = 0\n",
        "count = 0\n",
        "correct = 0\n",
        "for i in range(len(links)):\n",
        "  EngWord = links[i][0]\n",
        "  enlist = envec.keys()\n",
        "  if links[i][1] == 'de':\n",
        "    if EngWord in enlist:\n",
        "      count += 1\n",
        "      if links[i][0] == links[i][2]:\n",
        "        correct += 1\n",
        "de_baselineAccuracy = correct/count\n",
        "\n",
        "print(\"de_accuracy = \"+ str(accuracy))\n",
        "print(\"de_baseline accuracy = \"+ str(baselineAccuracy))"
      ],
      "execution_count": 16,
      "outputs": [
        {
          "output_type": "stream",
          "text": [
            "de_accuracy = 0.5359205593271862\n",
            "de_baseline accuracy = 0.6742324450298915\n"
          ],
          "name": "stdout"
        }
      ]
    },
    {
      "cell_type": "markdown",
      "metadata": {
        "id": "E6z01sufFPJh"
      },
      "source": [
        "Further evaluation, if you are interested, could involve looking at the $k$ nearest neighbors of each English term to compute \"recall at 10\" or \"mean reciprocal rank at 10\"."
      ]
    }
  ]
}