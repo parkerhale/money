{
  "nbformat": 4,
  "nbformat_minor": 0,
  "metadata": {
    "colab": {
      "name": "Untitled1.ipynb",
      "provenance": [],
      "authorship_tag": "ABX9TyNn07X7ynf2EJGLpqU2i9qJ",
      "include_colab_link": true
    },
    "kernelspec": {
      "name": "python3",
      "display_name": "Python 3"
    },
    "language_info": {
      "name": "python"
    }
  },
  "cells": [
    {
      "cell_type": "markdown",
      "metadata": {
        "id": "view-in-github",
        "colab_type": "text"
      },
      "source": [
        "<a href=\"https://colab.research.google.com/github/parkerhale/money/blob/master/demo_project.ipynb\" target=\"_parent\"><img src=\"https://colab.research.google.com/assets/colab-badge.svg\" alt=\"Open In Colab\"/></a>"
      ]
    },
    {
      "cell_type": "code",
      "metadata": {
        "id": "owzE-BJta200"
      },
      "source": [
        "import os\n",
        "from google.colab import drive\n",
        "from argparse import Namespace\n",
        "import numpy as np\n",
        "import pandas as pd\n",
        "import httpimport\n",
        "import torch\n",
        "import torch.optim as optim\n",
        "from tqdm import tqdm_notebook, tqdm\n",
        "import math\n",
        "import nltk\n",
        "from nltk.corpus import stopwords\n",
        "from nltk.stem import WordNetLemmatizer\n",
        "from nltk.stem import PorterStemmer\n",
        "import statsmodels.formula.api as smf  # statsmodels\n",
        "import statsmodels.api as sm\n",
        "from numpy import genfromtxt\n",
        "import csv\n",
        "import urllib.request\n",
        "import seaborn as sns\n",
        "import matplotlib.pyplot as plt"
      ],
      "execution_count": 117,
      "outputs": []
    },
    {
      "cell_type": "code",
      "metadata": {
        "colab": {
          "base_uri": "https://localhost:8080/",
          "height": 660
        },
        "id": "N0fwyE1ja5dr",
        "outputId": "b12c6b41-82c5-4539-8447-4a6da2a2077d"
      },
      "source": [
        "url = \"https://github.com/sundeepblue/movie_rating_prediction/raw/master/movie_metadata.csv\"\n",
        "data = pd.read_csv(url)\n",
        "data"
      ],
      "execution_count": 75,
      "outputs": [
        {
          "output_type": "execute_result",
          "data": {
            "text/html": [
              "<div>\n",
              "<style scoped>\n",
              "    .dataframe tbody tr th:only-of-type {\n",
              "        vertical-align: middle;\n",
              "    }\n",
              "\n",
              "    .dataframe tbody tr th {\n",
              "        vertical-align: top;\n",
              "    }\n",
              "\n",
              "    .dataframe thead th {\n",
              "        text-align: right;\n",
              "    }\n",
              "</style>\n",
              "<table border=\"1\" class=\"dataframe\">\n",
              "  <thead>\n",
              "    <tr style=\"text-align: right;\">\n",
              "      <th></th>\n",
              "      <th>color</th>\n",
              "      <th>director_name</th>\n",
              "      <th>num_critic_for_reviews</th>\n",
              "      <th>duration</th>\n",
              "      <th>director_facebook_likes</th>\n",
              "      <th>actor_3_facebook_likes</th>\n",
              "      <th>actor_2_name</th>\n",
              "      <th>actor_1_facebook_likes</th>\n",
              "      <th>gross</th>\n",
              "      <th>genres</th>\n",
              "      <th>actor_1_name</th>\n",
              "      <th>movie_title</th>\n",
              "      <th>num_voted_users</th>\n",
              "      <th>cast_total_facebook_likes</th>\n",
              "      <th>actor_3_name</th>\n",
              "      <th>facenumber_in_poster</th>\n",
              "      <th>plot_keywords</th>\n",
              "      <th>movie_imdb_link</th>\n",
              "      <th>num_user_for_reviews</th>\n",
              "      <th>language</th>\n",
              "      <th>country</th>\n",
              "      <th>content_rating</th>\n",
              "      <th>budget</th>\n",
              "      <th>title_year</th>\n",
              "      <th>actor_2_facebook_likes</th>\n",
              "      <th>imdb_score</th>\n",
              "      <th>aspect_ratio</th>\n",
              "      <th>movie_facebook_likes</th>\n",
              "    </tr>\n",
              "  </thead>\n",
              "  <tbody>\n",
              "    <tr>\n",
              "      <th>0</th>\n",
              "      <td>Color</td>\n",
              "      <td>James Cameron</td>\n",
              "      <td>723.0</td>\n",
              "      <td>178.0</td>\n",
              "      <td>0.0</td>\n",
              "      <td>855.0</td>\n",
              "      <td>Joel David Moore</td>\n",
              "      <td>1000.0</td>\n",
              "      <td>760505847.0</td>\n",
              "      <td>Action|Adventure|Fantasy|Sci-Fi</td>\n",
              "      <td>CCH Pounder</td>\n",
              "      <td>Avatar</td>\n",
              "      <td>886204</td>\n",
              "      <td>4834</td>\n",
              "      <td>Wes Studi</td>\n",
              "      <td>0.0</td>\n",
              "      <td>avatar|future|marine|native|paraplegic</td>\n",
              "      <td>http://www.imdb.com/title/tt0499549/?ref_=fn_t...</td>\n",
              "      <td>3054.0</td>\n",
              "      <td>English</td>\n",
              "      <td>USA</td>\n",
              "      <td>PG-13</td>\n",
              "      <td>237000000.0</td>\n",
              "      <td>2009.0</td>\n",
              "      <td>936.0</td>\n",
              "      <td>7.9</td>\n",
              "      <td>1.78</td>\n",
              "      <td>33000</td>\n",
              "    </tr>\n",
              "    <tr>\n",
              "      <th>1</th>\n",
              "      <td>Color</td>\n",
              "      <td>Gore Verbinski</td>\n",
              "      <td>302.0</td>\n",
              "      <td>169.0</td>\n",
              "      <td>563.0</td>\n",
              "      <td>1000.0</td>\n",
              "      <td>Orlando Bloom</td>\n",
              "      <td>40000.0</td>\n",
              "      <td>309404152.0</td>\n",
              "      <td>Action|Adventure|Fantasy</td>\n",
              "      <td>Johnny Depp</td>\n",
              "      <td>Pirates of the Caribbean: At World's End</td>\n",
              "      <td>471220</td>\n",
              "      <td>48350</td>\n",
              "      <td>Jack Davenport</td>\n",
              "      <td>0.0</td>\n",
              "      <td>goddess|marriage ceremony|marriage proposal|pi...</td>\n",
              "      <td>http://www.imdb.com/title/tt0449088/?ref_=fn_t...</td>\n",
              "      <td>1238.0</td>\n",
              "      <td>English</td>\n",
              "      <td>USA</td>\n",
              "      <td>PG-13</td>\n",
              "      <td>300000000.0</td>\n",
              "      <td>2007.0</td>\n",
              "      <td>5000.0</td>\n",
              "      <td>7.1</td>\n",
              "      <td>2.35</td>\n",
              "      <td>0</td>\n",
              "    </tr>\n",
              "    <tr>\n",
              "      <th>2</th>\n",
              "      <td>Color</td>\n",
              "      <td>Sam Mendes</td>\n",
              "      <td>602.0</td>\n",
              "      <td>148.0</td>\n",
              "      <td>0.0</td>\n",
              "      <td>161.0</td>\n",
              "      <td>Rory Kinnear</td>\n",
              "      <td>11000.0</td>\n",
              "      <td>200074175.0</td>\n",
              "      <td>Action|Adventure|Thriller</td>\n",
              "      <td>Christoph Waltz</td>\n",
              "      <td>Spectre</td>\n",
              "      <td>275868</td>\n",
              "      <td>11700</td>\n",
              "      <td>Stephanie Sigman</td>\n",
              "      <td>1.0</td>\n",
              "      <td>bomb|espionage|sequel|spy|terrorist</td>\n",
              "      <td>http://www.imdb.com/title/tt2379713/?ref_=fn_t...</td>\n",
              "      <td>994.0</td>\n",
              "      <td>English</td>\n",
              "      <td>UK</td>\n",
              "      <td>PG-13</td>\n",
              "      <td>245000000.0</td>\n",
              "      <td>2015.0</td>\n",
              "      <td>393.0</td>\n",
              "      <td>6.8</td>\n",
              "      <td>2.35</td>\n",
              "      <td>85000</td>\n",
              "    </tr>\n",
              "    <tr>\n",
              "      <th>3</th>\n",
              "      <td>Color</td>\n",
              "      <td>Christopher Nolan</td>\n",
              "      <td>813.0</td>\n",
              "      <td>164.0</td>\n",
              "      <td>22000.0</td>\n",
              "      <td>23000.0</td>\n",
              "      <td>Christian Bale</td>\n",
              "      <td>27000.0</td>\n",
              "      <td>448130642.0</td>\n",
              "      <td>Action|Thriller</td>\n",
              "      <td>Tom Hardy</td>\n",
              "      <td>The Dark Knight Rises</td>\n",
              "      <td>1144337</td>\n",
              "      <td>106759</td>\n",
              "      <td>Joseph Gordon-Levitt</td>\n",
              "      <td>0.0</td>\n",
              "      <td>deception|imprisonment|lawlessness|police offi...</td>\n",
              "      <td>http://www.imdb.com/title/tt1345836/?ref_=fn_t...</td>\n",
              "      <td>2701.0</td>\n",
              "      <td>English</td>\n",
              "      <td>USA</td>\n",
              "      <td>PG-13</td>\n",
              "      <td>250000000.0</td>\n",
              "      <td>2012.0</td>\n",
              "      <td>23000.0</td>\n",
              "      <td>8.5</td>\n",
              "      <td>2.35</td>\n",
              "      <td>164000</td>\n",
              "    </tr>\n",
              "    <tr>\n",
              "      <th>4</th>\n",
              "      <td>NaN</td>\n",
              "      <td>Doug Walker</td>\n",
              "      <td>NaN</td>\n",
              "      <td>NaN</td>\n",
              "      <td>131.0</td>\n",
              "      <td>NaN</td>\n",
              "      <td>Rob Walker</td>\n",
              "      <td>131.0</td>\n",
              "      <td>NaN</td>\n",
              "      <td>Documentary</td>\n",
              "      <td>Doug Walker</td>\n",
              "      <td>Star Wars: Episode VII - The Force Awakens    ...</td>\n",
              "      <td>8</td>\n",
              "      <td>143</td>\n",
              "      <td>NaN</td>\n",
              "      <td>0.0</td>\n",
              "      <td>NaN</td>\n",
              "      <td>http://www.imdb.com/title/tt5289954/?ref_=fn_t...</td>\n",
              "      <td>NaN</td>\n",
              "      <td>NaN</td>\n",
              "      <td>NaN</td>\n",
              "      <td>NaN</td>\n",
              "      <td>NaN</td>\n",
              "      <td>NaN</td>\n",
              "      <td>12.0</td>\n",
              "      <td>7.1</td>\n",
              "      <td>NaN</td>\n",
              "      <td>0</td>\n",
              "    </tr>\n",
              "    <tr>\n",
              "      <th>...</th>\n",
              "      <td>...</td>\n",
              "      <td>...</td>\n",
              "      <td>...</td>\n",
              "      <td>...</td>\n",
              "      <td>...</td>\n",
              "      <td>...</td>\n",
              "      <td>...</td>\n",
              "      <td>...</td>\n",
              "      <td>...</td>\n",
              "      <td>...</td>\n",
              "      <td>...</td>\n",
              "      <td>...</td>\n",
              "      <td>...</td>\n",
              "      <td>...</td>\n",
              "      <td>...</td>\n",
              "      <td>...</td>\n",
              "      <td>...</td>\n",
              "      <td>...</td>\n",
              "      <td>...</td>\n",
              "      <td>...</td>\n",
              "      <td>...</td>\n",
              "      <td>...</td>\n",
              "      <td>...</td>\n",
              "      <td>...</td>\n",
              "      <td>...</td>\n",
              "      <td>...</td>\n",
              "      <td>...</td>\n",
              "      <td>...</td>\n",
              "    </tr>\n",
              "    <tr>\n",
              "      <th>5038</th>\n",
              "      <td>Color</td>\n",
              "      <td>Scott Smith</td>\n",
              "      <td>1.0</td>\n",
              "      <td>87.0</td>\n",
              "      <td>2.0</td>\n",
              "      <td>318.0</td>\n",
              "      <td>Daphne Zuniga</td>\n",
              "      <td>637.0</td>\n",
              "      <td>NaN</td>\n",
              "      <td>Comedy|Drama</td>\n",
              "      <td>Eric Mabius</td>\n",
              "      <td>Signed Sealed Delivered</td>\n",
              "      <td>629</td>\n",
              "      <td>2283</td>\n",
              "      <td>Crystal Lowe</td>\n",
              "      <td>2.0</td>\n",
              "      <td>fraud|postal worker|prison|theft|trial</td>\n",
              "      <td>http://www.imdb.com/title/tt3000844/?ref_=fn_t...</td>\n",
              "      <td>6.0</td>\n",
              "      <td>English</td>\n",
              "      <td>Canada</td>\n",
              "      <td>NaN</td>\n",
              "      <td>NaN</td>\n",
              "      <td>2013.0</td>\n",
              "      <td>470.0</td>\n",
              "      <td>7.7</td>\n",
              "      <td>NaN</td>\n",
              "      <td>84</td>\n",
              "    </tr>\n",
              "    <tr>\n",
              "      <th>5039</th>\n",
              "      <td>Color</td>\n",
              "      <td>NaN</td>\n",
              "      <td>43.0</td>\n",
              "      <td>43.0</td>\n",
              "      <td>NaN</td>\n",
              "      <td>319.0</td>\n",
              "      <td>Valorie Curry</td>\n",
              "      <td>841.0</td>\n",
              "      <td>NaN</td>\n",
              "      <td>Crime|Drama|Mystery|Thriller</td>\n",
              "      <td>Natalie Zea</td>\n",
              "      <td>The Following</td>\n",
              "      <td>73839</td>\n",
              "      <td>1753</td>\n",
              "      <td>Sam Underwood</td>\n",
              "      <td>1.0</td>\n",
              "      <td>cult|fbi|hideout|prison escape|serial killer</td>\n",
              "      <td>http://www.imdb.com/title/tt2071645/?ref_=fn_t...</td>\n",
              "      <td>359.0</td>\n",
              "      <td>English</td>\n",
              "      <td>USA</td>\n",
              "      <td>TV-14</td>\n",
              "      <td>NaN</td>\n",
              "      <td>NaN</td>\n",
              "      <td>593.0</td>\n",
              "      <td>7.5</td>\n",
              "      <td>16.00</td>\n",
              "      <td>32000</td>\n",
              "    </tr>\n",
              "    <tr>\n",
              "      <th>5040</th>\n",
              "      <td>Color</td>\n",
              "      <td>Benjamin Roberds</td>\n",
              "      <td>13.0</td>\n",
              "      <td>76.0</td>\n",
              "      <td>0.0</td>\n",
              "      <td>0.0</td>\n",
              "      <td>Maxwell Moody</td>\n",
              "      <td>0.0</td>\n",
              "      <td>NaN</td>\n",
              "      <td>Drama|Horror|Thriller</td>\n",
              "      <td>Eva Boehnke</td>\n",
              "      <td>A Plague So Pleasant</td>\n",
              "      <td>38</td>\n",
              "      <td>0</td>\n",
              "      <td>David Chandler</td>\n",
              "      <td>0.0</td>\n",
              "      <td>NaN</td>\n",
              "      <td>http://www.imdb.com/title/tt2107644/?ref_=fn_t...</td>\n",
              "      <td>3.0</td>\n",
              "      <td>English</td>\n",
              "      <td>USA</td>\n",
              "      <td>NaN</td>\n",
              "      <td>1400.0</td>\n",
              "      <td>2013.0</td>\n",
              "      <td>0.0</td>\n",
              "      <td>6.3</td>\n",
              "      <td>NaN</td>\n",
              "      <td>16</td>\n",
              "    </tr>\n",
              "    <tr>\n",
              "      <th>5041</th>\n",
              "      <td>Color</td>\n",
              "      <td>Daniel Hsia</td>\n",
              "      <td>14.0</td>\n",
              "      <td>100.0</td>\n",
              "      <td>0.0</td>\n",
              "      <td>489.0</td>\n",
              "      <td>Daniel Henney</td>\n",
              "      <td>946.0</td>\n",
              "      <td>10443.0</td>\n",
              "      <td>Comedy|Drama|Romance</td>\n",
              "      <td>Alan Ruck</td>\n",
              "      <td>Shanghai Calling</td>\n",
              "      <td>1255</td>\n",
              "      <td>2386</td>\n",
              "      <td>Eliza Coupe</td>\n",
              "      <td>5.0</td>\n",
              "      <td>NaN</td>\n",
              "      <td>http://www.imdb.com/title/tt2070597/?ref_=fn_t...</td>\n",
              "      <td>9.0</td>\n",
              "      <td>English</td>\n",
              "      <td>USA</td>\n",
              "      <td>PG-13</td>\n",
              "      <td>NaN</td>\n",
              "      <td>2012.0</td>\n",
              "      <td>719.0</td>\n",
              "      <td>6.3</td>\n",
              "      <td>2.35</td>\n",
              "      <td>660</td>\n",
              "    </tr>\n",
              "    <tr>\n",
              "      <th>5042</th>\n",
              "      <td>Color</td>\n",
              "      <td>Jon Gunn</td>\n",
              "      <td>43.0</td>\n",
              "      <td>90.0</td>\n",
              "      <td>16.0</td>\n",
              "      <td>16.0</td>\n",
              "      <td>Brian Herzlinger</td>\n",
              "      <td>86.0</td>\n",
              "      <td>85222.0</td>\n",
              "      <td>Documentary</td>\n",
              "      <td>John August</td>\n",
              "      <td>My Date with Drew</td>\n",
              "      <td>4285</td>\n",
              "      <td>163</td>\n",
              "      <td>Jon Gunn</td>\n",
              "      <td>0.0</td>\n",
              "      <td>actress name in title|crush|date|four word tit...</td>\n",
              "      <td>http://www.imdb.com/title/tt0378407/?ref_=fn_t...</td>\n",
              "      <td>84.0</td>\n",
              "      <td>English</td>\n",
              "      <td>USA</td>\n",
              "      <td>PG</td>\n",
              "      <td>1100.0</td>\n",
              "      <td>2004.0</td>\n",
              "      <td>23.0</td>\n",
              "      <td>6.6</td>\n",
              "      <td>1.85</td>\n",
              "      <td>456</td>\n",
              "    </tr>\n",
              "  </tbody>\n",
              "</table>\n",
              "<p>5043 rows × 28 columns</p>\n",
              "</div>"
            ],
            "text/plain": [
              "      color      director_name  ...  aspect_ratio  movie_facebook_likes\n",
              "0     Color      James Cameron  ...          1.78                 33000\n",
              "1     Color     Gore Verbinski  ...          2.35                     0\n",
              "2     Color         Sam Mendes  ...          2.35                 85000\n",
              "3     Color  Christopher Nolan  ...          2.35                164000\n",
              "4       NaN        Doug Walker  ...           NaN                     0\n",
              "...     ...                ...  ...           ...                   ...\n",
              "5038  Color        Scott Smith  ...           NaN                    84\n",
              "5039  Color                NaN  ...         16.00                 32000\n",
              "5040  Color   Benjamin Roberds  ...           NaN                    16\n",
              "5041  Color        Daniel Hsia  ...          2.35                   660\n",
              "5042  Color           Jon Gunn  ...          1.85                   456\n",
              "\n",
              "[5043 rows x 28 columns]"
            ]
          },
          "metadata": {
            "tags": []
          },
          "execution_count": 75
        }
      ]
    },
    {
      "cell_type": "code",
      "metadata": {
        "id": "GmsTUMT7IAPZ"
      },
      "source": [
        ""
      ],
      "execution_count": null,
      "outputs": []
    },
    {
      "cell_type": "markdown",
      "metadata": {
        "id": "l7oFofVffxWS"
      },
      "source": [
        "This dataset contains lots of information, including 9 characteristic variables, 15 numeric variables and 2 categorical variables. Before we processing feature engineering, I want to make sure data integrity so that missing values and outliers won't affect our prediction result.\n",
        "The first step is "
      ]
    },
    {
      "cell_type": "code",
      "metadata": {
        "colab": {
          "base_uri": "https://localhost:8080/"
        },
        "id": "1L0rSTWCcNaC",
        "outputId": "6f12340a-e28b-4a7c-c529-d9253a110148"
      },
      "source": [
        "data.shape"
      ],
      "execution_count": 58,
      "outputs": [
        {
          "output_type": "execute_result",
          "data": {
            "text/plain": [
              "(5043, 28)"
            ]
          },
          "metadata": {
            "tags": []
          },
          "execution_count": 58
        }
      ]
    },
    {
      "cell_type": "code",
      "metadata": {
        "colab": {
          "base_uri": "https://localhost:8080/"
        },
        "id": "vj-kPfVRnXyj",
        "outputId": "b57383ee-7227-4247-c9b6-d8d1afdd3d65"
      },
      "source": [
        "data.isna().sum()"
      ],
      "execution_count": 59,
      "outputs": [
        {
          "output_type": "execute_result",
          "data": {
            "text/plain": [
              "color                         19\n",
              "director_name                104\n",
              "num_critic_for_reviews        50\n",
              "duration                      15\n",
              "director_facebook_likes      104\n",
              "actor_3_facebook_likes        23\n",
              "actor_2_name                  13\n",
              "actor_1_facebook_likes         7\n",
              "gross                        884\n",
              "genres                         0\n",
              "actor_1_name                   7\n",
              "movie_title                    0\n",
              "num_voted_users                0\n",
              "cast_total_facebook_likes      0\n",
              "actor_3_name                  23\n",
              "facenumber_in_poster          13\n",
              "plot_keywords                153\n",
              "movie_imdb_link                0\n",
              "num_user_for_reviews          21\n",
              "language                      12\n",
              "country                        5\n",
              "content_rating               303\n",
              "budget                       492\n",
              "title_year                   108\n",
              "actor_2_facebook_likes        13\n",
              "imdb_score                     0\n",
              "aspect_ratio                 329\n",
              "movie_facebook_likes           0\n",
              "dtype: int64"
            ]
          },
          "metadata": {
            "tags": []
          },
          "execution_count": 59
        }
      ]
    },
    {
      "cell_type": "code",
      "metadata": {
        "id": "D0zhg-Cxcg1m"
      },
      "source": [
        "data['director_facebook_likes'] = data['director_facebook_likes'].fillna(0)\n",
        "data['actor_1_facebook_likes'] = data['actor_1_facebook_likes'].fillna(0)\n",
        "data['actor_2_facebook_likes'] = data['actor_2_facebook_likes'].fillna(0)\n",
        "data['actor_3_facebook_likes'] = data['actor_3_facebook_likes'].fillna(0)"
      ],
      "execution_count": 76,
      "outputs": []
    },
    {
      "cell_type": "code",
      "metadata": {
        "id": "B6UK5FgkdfI6"
      },
      "source": [
        "data_wo_useless_attributes = data.drop(columns=['color','movie_imdb_link','num_user_for_reviews','aspect_ratio'])"
      ],
      "execution_count": 77,
      "outputs": []
    },
    {
      "cell_type": "markdown",
      "metadata": {
        "id": "fXlPYyhsqk-1"
      },
      "source": [
        "face number in poster is not"
      ]
    },
    {
      "cell_type": "code",
      "metadata": {
        "id": "v7i616e1qqY9"
      },
      "source": [
        "data_wo_useless_attributes = data_wo_useless_attributes.drop(columns=['facenumber_in_poster'])"
      ],
      "execution_count": 78,
      "outputs": []
    },
    {
      "cell_type": "code",
      "metadata": {
        "id": "Z39SlXzPp5Oj"
      },
      "source": [
        "data_numeric_cleaned = data_wo_useless_attributes.dropna(subset=['num_critic_for_reviews','duration','director_name','title_year','budget'])"
      ],
      "execution_count": 79,
      "outputs": []
    },
    {
      "cell_type": "code",
      "metadata": {
        "id": "6YxaqbyaqVZV"
      },
      "source": [
        "data_categoric_cleaned = data_numeric_cleaned.dropna(subset=['director_name','actor_1_name','actor_2_name','actor_3_name','plot_keywords','content_rating','language'])"
      ],
      "execution_count": 80,
      "outputs": []
    },
    {
      "cell_type": "code",
      "metadata": {
        "colab": {
          "base_uri": "https://localhost:8080/"
        },
        "id": "KCx3wmrYsspo",
        "outputId": "eb0031c9-0e50-44a6-9b8b-3af0777e5b56"
      },
      "source": [
        "data_categoric_cleaned.isna().sum()"
      ],
      "execution_count": 82,
      "outputs": [
        {
          "output_type": "execute_result",
          "data": {
            "text/plain": [
              "director_name                  0\n",
              "num_critic_for_reviews         0\n",
              "duration                       0\n",
              "director_facebook_likes        0\n",
              "actor_3_facebook_likes         0\n",
              "actor_2_name                   0\n",
              "actor_1_facebook_likes         0\n",
              "gross                        452\n",
              "genres                         0\n",
              "actor_1_name                   0\n",
              "movie_title                    0\n",
              "num_voted_users                0\n",
              "cast_total_facebook_likes      0\n",
              "actor_3_name                   0\n",
              "plot_keywords                  0\n",
              "language                       0\n",
              "country                        0\n",
              "content_rating                 0\n",
              "budget                         0\n",
              "title_year                     0\n",
              "actor_2_facebook_likes         0\n",
              "imdb_score                     0\n",
              "movie_facebook_likes           0\n",
              "dtype: int64"
            ]
          },
          "metadata": {
            "tags": []
          },
          "execution_count": 82
        }
      ]
    },
    {
      "cell_type": "code",
      "metadata": {
        "colab": {
          "base_uri": "https://localhost:8080/"
        },
        "id": "Nat5c4vTE33g",
        "outputId": "063405a0-ad7d-4ffc-c96c-3fff6192e8cd"
      },
      "source": [
        "gross_pred = data_categoric_cleaned[data_categoric_cleaned['gross'].isna()]\n",
        "gross_train = data_categoric_cleaned.dropna(subset=['gross'])\n"
      ],
      "execution_count": 108,
      "outputs": [
        {
          "output_type": "execute_result",
          "data": {
            "text/plain": [
              "(3811, 23)"
            ]
          },
          "metadata": {
            "tags": []
          },
          "execution_count": 108
        }
      ]
    },
    {
      "cell_type": "code",
      "metadata": {
        "colab": {
          "base_uri": "https://localhost:8080/"
        },
        "id": "1_s1cC3nydlA",
        "outputId": "79b4ec74-a686-490a-e355-16f7e500b3ae"
      },
      "source": [
        "fit_lm = smf.glm('gross ~ budget', gross_train).fit()\n",
        "print(fit_lm.summary())"
      ],
      "execution_count": 122,
      "outputs": [
        {
          "output_type": "stream",
          "text": [
            "                 Generalized Linear Model Regression Results                  \n",
            "==============================================================================\n",
            "Dep. Variable:                  gross   No. Observations:                 3811\n",
            "Model:                            GLM   Df Residuals:                     3809\n",
            "Model Family:                Gaussian   Df Model:                            1\n",
            "Link Function:               identity   Scale:                      4.8728e+15\n",
            "Method:                          IRLS   Log-Likelihood:                -74238.\n",
            "Date:                Thu, 17 Jun 2021   Deviance:                   1.8561e+19\n",
            "Time:                        03:57:58   Pearson chi2:                 1.86e+19\n",
            "No. Iterations:                     3                                         \n",
            "Covariance Type:            nonrobust                                         \n",
            "==============================================================================\n",
            "                 coef    std err          z      P>|z|      [0.025      0.975]\n",
            "------------------------------------------------------------------------------\n",
            "Intercept   5.063e+07   1.15e+06     43.876      0.000    4.84e+07    5.29e+07\n",
            "budget         0.0316      0.005      6.275      0.000       0.022       0.041\n",
            "==============================================================================\n"
          ],
          "name": "stdout"
        }
      ]
    },
    {
      "cell_type": "code",
      "metadata": {
        "colab": {
          "base_uri": "https://localhost:8080/",
          "height": 361
        },
        "id": "EFImwpegGWju",
        "outputId": "090142ec-a2cb-4591-8f02-3a38dd9d8bf0"
      },
      "source": [
        "fig, ax = plt.subplots()\n",
        "ax.set(ylim=(0, 300000000))\n",
        "sns.regplot('gross', 'budget', data)"
      ],
      "execution_count": 125,
      "outputs": [
        {
          "output_type": "stream",
          "text": [
            "/usr/local/lib/python3.7/dist-packages/seaborn/_decorators.py:43: FutureWarning: Pass the following variables as keyword args: x, y, data. From version 0.12, the only valid positional argument will be `data`, and passing other arguments without an explicit keyword will result in an error or misinterpretation.\n",
            "  FutureWarning\n"
          ],
          "name": "stderr"
        },
        {
          "output_type": "execute_result",
          "data": {
            "text/plain": [
              "<matplotlib.axes._subplots.AxesSubplot at 0x7f5e23139cd0>"
            ]
          },
          "metadata": {
            "tags": []
          },
          "execution_count": 125
        },
        {
          "output_type": "display_data",
          "data": {
            "image/png": "[encoded data removed]",
            "text/plain": [
              "<Figure size 432x288 with 1 Axes>"
            ]
          },
          "metadata": {
            "tags": [],
            "needs_background": "light"
          }
        }
      ]
    },
    {
      "cell_type": "code",
      "metadata": {
        "colab": {
          "base_uri": "https://localhost:8080/",
          "height": 562
        },
        "id": "cG78dBUUBqbQ",
        "outputId": "152c6ace-411f-40e7-aae4-ec2bacb1c124"
      },
      "source": [
        "result = fit_lm.predict(data_categoric_cleaned['budget','title_year','imdb_score','duration'])\n",
        "result"
      ],
      "execution_count": 92,
      "outputs": [
        {
          "output_type": "error",
          "ename": "KeyError",
          "evalue": "ignored",
          "traceback": [
            "\u001b[0;31m---------------------------------------------------------------------------\u001b[0m",
            "\u001b[0;31mKeyError\u001b[0m                                  Traceback (most recent call last)",
            "\u001b[0;32m/usr/local/lib/python3.7/dist-packages/pandas/core/indexes/base.py\u001b[0m in \u001b[0;36mget_loc\u001b[0;34m(self, key, method, tolerance)\u001b[0m\n\u001b[1;32m   2897\u001b[0m             \u001b[0;32mtry\u001b[0m\u001b[0;34m:\u001b[0m\u001b[0;34m\u001b[0m\u001b[0;34m\u001b[0m\u001b[0m\n\u001b[0;32m-> 2898\u001b[0;31m                 \u001b[0;32mreturn\u001b[0m \u001b[0mself\u001b[0m\u001b[0;34m.\u001b[0m\u001b[0m_engine\u001b[0m\u001b[0;34m.\u001b[0m\u001b[0mget_loc\u001b[0m\u001b[0;34m(\u001b[0m\u001b[0mcasted_key\u001b[0m\u001b[0;34m)\u001b[0m\u001b[0;34m\u001b[0m\u001b[0;34m\u001b[0m\u001b[0m\n\u001b[0m\u001b[1;32m   2899\u001b[0m             \u001b[0;32mexcept\u001b[0m \u001b[0mKeyError\u001b[0m \u001b[0;32mas\u001b[0m \u001b[0merr\u001b[0m\u001b[0;34m:\u001b[0m\u001b[0;34m\u001b[0m\u001b[0;34m\u001b[0m\u001b[0m\n",
            "\u001b[0;32mpandas/_libs/index.pyx\u001b[0m in \u001b[0;36mpandas._libs.index.IndexEngine.get_loc\u001b[0;34m()\u001b[0m\n",
            "\u001b[0;32mpandas/_libs/index.pyx\u001b[0m in \u001b[0;36mpandas._libs.index.IndexEngine.get_loc\u001b[0;34m()\u001b[0m\n",
            "\u001b[0;32mpandas/_libs/hashtable_class_helper.pxi\u001b[0m in \u001b[0;36mpandas._libs.hashtable.PyObjectHashTable.get_item\u001b[0;34m()\u001b[0m\n",
            "\u001b[0;32mpandas/_libs/hashtable_class_helper.pxi\u001b[0m in \u001b[0;36mpandas._libs.hashtable.PyObjectHashTable.get_item\u001b[0;34m()\u001b[0m\n",
            "\u001b[0;31mKeyError\u001b[0m: ('budget', 'title_year', 'imdb_score', 'duration')",
            "\nThe above exception was the direct cause of the following exception:\n",
            "\u001b[0;31mKeyError\u001b[0m                                  Traceback (most recent call last)",
            "\u001b[0;32m<ipython-input-92-34a73d763262>\u001b[0m in \u001b[0;36m<module>\u001b[0;34m()\u001b[0m\n\u001b[0;32m----> 1\u001b[0;31m \u001b[0mresult\u001b[0m \u001b[0;34m=\u001b[0m \u001b[0mfit_lm\u001b[0m\u001b[0;34m.\u001b[0m\u001b[0mpredict\u001b[0m\u001b[0;34m(\u001b[0m\u001b[0mdata_categoric_cleaned\u001b[0m\u001b[0;34m[\u001b[0m\u001b[0;34m'budget'\u001b[0m\u001b[0;34m,\u001b[0m\u001b[0;34m'title_year'\u001b[0m\u001b[0;34m,\u001b[0m\u001b[0;34m'imdb_score'\u001b[0m\u001b[0;34m,\u001b[0m\u001b[0;34m'duration'\u001b[0m\u001b[0;34m]\u001b[0m\u001b[0;34m)\u001b[0m\u001b[0;34m\u001b[0m\u001b[0;34m\u001b[0m\u001b[0m\n\u001b[0m\u001b[1;32m      2\u001b[0m \u001b[0mresult\u001b[0m\u001b[0;34m\u001b[0m\u001b[0;34m\u001b[0m\u001b[0m\n",
            "\u001b[0;32m/usr/local/lib/python3.7/dist-packages/pandas/core/frame.py\u001b[0m in \u001b[0;36m__getitem__\u001b[0;34m(self, key)\u001b[0m\n\u001b[1;32m   2904\u001b[0m             \u001b[0;32mif\u001b[0m \u001b[0mself\u001b[0m\u001b[0;34m.\u001b[0m\u001b[0mcolumns\u001b[0m\u001b[0;34m.\u001b[0m\u001b[0mnlevels\u001b[0m \u001b[0;34m>\u001b[0m \u001b[0;36m1\u001b[0m\u001b[0;34m:\u001b[0m\u001b[0;34m\u001b[0m\u001b[0;34m\u001b[0m\u001b[0m\n\u001b[1;32m   2905\u001b[0m                 \u001b[0;32mreturn\u001b[0m \u001b[0mself\u001b[0m\u001b[0;34m.\u001b[0m\u001b[0m_getitem_multilevel\u001b[0m\u001b[0;34m(\u001b[0m\u001b[0mkey\u001b[0m\u001b[0;34m)\u001b[0m\u001b[0;34m\u001b[0m\u001b[0;34m\u001b[0m\u001b[0m\n\u001b[0;32m-> 2906\u001b[0;31m             \u001b[0mindexer\u001b[0m \u001b[0;34m=\u001b[0m \u001b[0mself\u001b[0m\u001b[0;34m.\u001b[0m\u001b[0mcolumns\u001b[0m\u001b[0;34m.\u001b[0m\u001b[0mget_loc\u001b[0m\u001b[0;34m(\u001b[0m\u001b[0mkey\u001b[0m\u001b[0;34m)\u001b[0m\u001b[0;34m\u001b[0m\u001b[0;34m\u001b[0m\u001b[0m\n\u001b[0m\u001b[1;32m   2907\u001b[0m             \u001b[0;32mif\u001b[0m \u001b[0mis_integer\u001b[0m\u001b[0;34m(\u001b[0m\u001b[0mindexer\u001b[0m\u001b[0;34m)\u001b[0m\u001b[0;34m:\u001b[0m\u001b[0;34m\u001b[0m\u001b[0;34m\u001b[0m\u001b[0m\n\u001b[1;32m   2908\u001b[0m                 \u001b[0mindexer\u001b[0m \u001b[0;34m=\u001b[0m \u001b[0;34m[\u001b[0m\u001b[0mindexer\u001b[0m\u001b[0;34m]\u001b[0m\u001b[0;34m\u001b[0m\u001b[0;34m\u001b[0m\u001b[0m\n",
            "\u001b[0;32m/usr/local/lib/python3.7/dist-packages/pandas/core/indexes/base.py\u001b[0m in \u001b[0;36mget_loc\u001b[0;34m(self, key, method, tolerance)\u001b[0m\n\u001b[1;32m   2898\u001b[0m                 \u001b[0;32mreturn\u001b[0m \u001b[0mself\u001b[0m\u001b[0;34m.\u001b[0m\u001b[0m_engine\u001b[0m\u001b[0;34m.\u001b[0m\u001b[0mget_loc\u001b[0m\u001b[0;34m(\u001b[0m\u001b[0mcasted_key\u001b[0m\u001b[0;34m)\u001b[0m\u001b[0;34m\u001b[0m\u001b[0;34m\u001b[0m\u001b[0m\n\u001b[1;32m   2899\u001b[0m             \u001b[0;32mexcept\u001b[0m \u001b[0mKeyError\u001b[0m \u001b[0;32mas\u001b[0m \u001b[0merr\u001b[0m\u001b[0;34m:\u001b[0m\u001b[0;34m\u001b[0m\u001b[0;34m\u001b[0m\u001b[0m\n\u001b[0;32m-> 2900\u001b[0;31m                 \u001b[0;32mraise\u001b[0m \u001b[0mKeyError\u001b[0m\u001b[0;34m(\u001b[0m\u001b[0mkey\u001b[0m\u001b[0;34m)\u001b[0m \u001b[0;32mfrom\u001b[0m \u001b[0merr\u001b[0m\u001b[0;34m\u001b[0m\u001b[0;34m\u001b[0m\u001b[0m\n\u001b[0m\u001b[1;32m   2901\u001b[0m \u001b[0;34m\u001b[0m\u001b[0m\n\u001b[1;32m   2902\u001b[0m         \u001b[0;32mif\u001b[0m \u001b[0mtolerance\u001b[0m \u001b[0;32mis\u001b[0m \u001b[0;32mnot\u001b[0m \u001b[0;32mNone\u001b[0m\u001b[0;34m:\u001b[0m\u001b[0;34m\u001b[0m\u001b[0;34m\u001b[0m\u001b[0m\n",
            "\u001b[0;31mKeyError\u001b[0m: ('budget', 'title_year', 'imdb_score', 'duration')"
          ]
        }
      ]
    },
    {
      "cell_type": "code",
      "metadata": {
        "colab": {
          "base_uri": "https://localhost:8080/"
        },
        "id": "aE1HoX2yEJDF",
        "outputId": "19947788-906e-478e-cfe4-ca9fe6349906"
      },
      "source": [
        "data_categoric_cleaned['budget','title_year','imdb_score','duration']"
      ],
      "execution_count": 94,
      "outputs": [
        {
          "output_type": "execute_result",
          "data": {
            "text/plain": [
              "0       237000000.0\n",
              "1       300000000.0\n",
              "2       245000000.0\n",
              "3       250000000.0\n",
              "5       263700000.0\n",
              "           ...     \n",
              "5033         7000.0\n",
              "5034         7000.0\n",
              "5035         7000.0\n",
              "5037         9000.0\n",
              "5042         1100.0\n",
              "Name: budget, Length: 4263, dtype: float64"
            ]
          },
          "metadata": {
            "tags": []
          },
          "execution_count": 94
        }
      ]
    }
  ]
}